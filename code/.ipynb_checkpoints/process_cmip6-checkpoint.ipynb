{
 "cells": [
  {
   "cell_type": "markdown",
   "id": "4af81e84-cf90-46a4-bcc2-b2bfa32863f8",
   "metadata": {},
   "source": [
    "## Download CMIP6 data from Pangeo\n",
    "\n",
    "Variables of interest: `mrsos`"
   ]
  },
  {
   "cell_type": "markdown",
   "id": "90ee96c9-5335-4035-9e69-3c147d336cba",
   "metadata": {},
   "source": [
    "## Necessary Packages"
   ]
  },
  {
   "cell_type": "code",
   "execution_count": 1,
   "id": "2e4c2146-ee3a-4249-b265-eae851bbc791",
   "metadata": {
    "execution": {
     "iopub.execute_input": "2025-02-27T19:55:24.433865Z",
     "iopub.status.busy": "2025-02-27T19:55:24.433575Z",
     "iopub.status.idle": "2025-02-27T19:55:25.715783Z",
     "shell.execute_reply": "2025-02-27T19:55:25.715066Z",
     "shell.execute_reply.started": "2025-02-27T19:55:24.433847Z"
    }
   },
   "outputs": [],
   "source": [
    "import xarray as xr\n",
    "import pandas as pd\n",
    "import numpy as np\n",
    "import cftime\n",
    "from tqdm.notebook import tqdm\n",
    "import re\n",
    "\n",
    "import os\n",
    "\n",
    "\n",
    "from operator import itemgetter # For list subsetting (very silly name)\n",
    "\n",
    "import warnings\n",
    "\n",
    "import intake\n",
    "import gcsfs\n",
    "\n",
    "import matplotlib.pyplot as plt\n",
    "\n"
   ]
  },
  {
   "cell_type": "code",
   "execution_count": 2,
   "id": "b1e72fd2-3c39-43f2-8d91-f6ec017e5b5b",
   "metadata": {
    "execution": {
     "iopub.execute_input": "2025-02-27T19:55:25.716853Z",
     "iopub.status.busy": "2025-02-27T19:55:25.716553Z",
     "iopub.status.idle": "2025-02-27T19:55:25.720172Z",
     "shell.execute_reply": "2025-02-27T19:55:25.719614Z",
     "shell.execute_reply.started": "2025-02-27T19:55:25.716835Z"
    }
   },
   "outputs": [],
   "source": [
    "# Get config file \n",
    "import download_config as cfg"
   ]
  },
  {
   "cell_type": "code",
   "execution_count": 3,
   "id": "8cd0841f-b5a5-4746-8ace-543bae7f4466",
   "metadata": {
    "execution": {
     "iopub.execute_input": "2025-02-27T19:55:25.720906Z",
     "iopub.status.busy": "2025-02-27T19:55:25.720746Z",
     "iopub.status.idle": "2025-02-27T19:55:25.725361Z",
     "shell.execute_reply": "2025-02-27T19:55:25.724705Z",
     "shell.execute_reply.started": "2025-02-27T19:55:25.720889Z"
    }
   },
   "outputs": [
    {
     "data": {
      "text/plain": [
       "'/Users/miriam/Documents/02_academia/02_PhD/research/projects/dirt-in-sesa/CMIP6_data/'"
      ]
     },
     "execution_count": 3,
     "metadata": {},
     "output_type": "execute_result"
    }
   ],
   "source": [
    "cfg.lpaths['raw_data_dir']"
   ]
  },
  {
   "cell_type": "code",
   "execution_count": 4,
   "id": "01bc7c48-72e1-4c50-b359-0e711ab249f5",
   "metadata": {
    "execution": {
     "iopub.execute_input": "2025-02-27T19:55:25.726616Z",
     "iopub.status.busy": "2025-02-27T19:55:25.726396Z",
     "iopub.status.idle": "2025-02-27T19:55:25.729370Z",
     "shell.execute_reply": "2025-02-27T19:55:25.728770Z",
     "shell.execute_reply.started": "2025-02-27T19:55:25.726599Z"
    }
   },
   "outputs": [],
   "source": [
    "# Set whether to regrid 360-day calendars to 365-day calendars\n",
    "# (probably don't do this while saving files. Only do this in \n",
    "# processing code that doesn't affect the original file)\n",
    "regrid_360 = False"
   ]
  },
  {
   "cell_type": "markdown",
   "id": "70692d7b-0b27-4155-bb61-bf4a368fde91",
   "metadata": {},
   "source": [
    "## Get list of cloud datasets"
   ]
  },
  {
   "cell_type": "code",
   "execution_count": 5,
   "id": "69dd40e1-d8cf-4195-9844-52c1a501edec",
   "metadata": {
    "execution": {
     "iopub.execute_input": "2025-02-27T19:55:25.730621Z",
     "iopub.status.busy": "2025-02-27T19:55:25.730391Z",
     "iopub.status.idle": "2025-02-27T19:55:38.627470Z",
     "shell.execute_reply": "2025-02-27T19:55:38.626883Z",
     "shell.execute_reply.started": "2025-02-27T19:55:25.730602Z"
    }
   },
   "outputs": [],
   "source": [
    "url = \"https://storage.googleapis.com/cmip6/cmip6-pgf-ingestion-test/catalog/catalog.json\" # Only stores that pass current tests\n",
    "col = intake.open_esm_datastore(url)\n",
    "\n",
    "varlist = ['mrsos']\n",
    "\n",
    "cats = {var:col.search(variable_id = [var], table_id = 'Lmon') for var in varlist}"
   ]
  },
  {
   "cell_type": "markdown",
   "id": "b8d7ed1b-ff42-47d4-9342-28d2afc9b694",
   "metadata": {},
   "source": [
    "### Turn into dataframe"
   ]
  },
  {
   "cell_type": "code",
   "execution_count": 6,
   "id": "d228d7ae-8d3d-4944-aded-9cfe91f290a6",
   "metadata": {
    "execution": {
     "iopub.execute_input": "2025-02-27T19:55:38.630703Z",
     "iopub.status.busy": "2025-02-27T19:55:38.630475Z",
     "iopub.status.idle": "2025-02-27T19:55:38.641888Z",
     "shell.execute_reply": "2025-02-27T19:55:38.641389Z",
     "shell.execute_reply.started": "2025-02-27T19:55:38.630683Z"
    }
   },
   "outputs": [
    {
     "data": {
      "text/html": [
       "<div>\n",
       "<style scoped>\n",
       "    .dataframe tbody tr th:only-of-type {\n",
       "        vertical-align: middle;\n",
       "    }\n",
       "\n",
       "    .dataframe tbody tr th {\n",
       "        vertical-align: top;\n",
       "    }\n",
       "\n",
       "    .dataframe thead th {\n",
       "        text-align: right;\n",
       "    }\n",
       "</style>\n",
       "<table border=\"1\" class=\"dataframe\">\n",
       "  <thead>\n",
       "    <tr style=\"text-align: right;\">\n",
       "      <th></th>\n",
       "      <th>activity_id</th>\n",
       "      <th>institution_id</th>\n",
       "      <th>source_id</th>\n",
       "      <th>experiment_id</th>\n",
       "      <th>member_id</th>\n",
       "      <th>table_id</th>\n",
       "      <th>variable_id</th>\n",
       "      <th>grid_label</th>\n",
       "      <th>sub_experiment_id</th>\n",
       "      <th>variant_label</th>\n",
       "      <th>version</th>\n",
       "      <th>zstore</th>\n",
       "    </tr>\n",
       "  </thead>\n",
       "  <tbody>\n",
       "    <tr>\n",
       "      <th>0</th>\n",
       "      <td>CMIP</td>\n",
       "      <td>NASA-GISS</td>\n",
       "      <td>GISS-E2-1-G</td>\n",
       "      <td>piControl</td>\n",
       "      <td>r101i1p1f1</td>\n",
       "      <td>Lmon</td>\n",
       "      <td>mrsos</td>\n",
       "      <td>gn</td>\n",
       "      <td>none</td>\n",
       "      <td>r101i1p1f1</td>\n",
       "      <td>v20190815</td>\n",
       "      <td>gs://cmip6/CMIP6/CMIP/NASA-GISS/GISS-E2-1-G/pi...</td>\n",
       "    </tr>\n",
       "    <tr>\n",
       "      <th>1</th>\n",
       "      <td>C4MIP</td>\n",
       "      <td>NASA-GISS</td>\n",
       "      <td>GISS-E2-1-G</td>\n",
       "      <td>1pctCO2-bgc</td>\n",
       "      <td>r101i1p1f1</td>\n",
       "      <td>Lmon</td>\n",
       "      <td>mrsos</td>\n",
       "      <td>gn</td>\n",
       "      <td>none</td>\n",
       "      <td>r101i1p1f1</td>\n",
       "      <td>v20190815</td>\n",
       "      <td>gs://cmip6/CMIP6/C4MIP/NASA-GISS/GISS-E2-1-G/1...</td>\n",
       "    </tr>\n",
       "    <tr>\n",
       "      <th>2</th>\n",
       "      <td>CMIP</td>\n",
       "      <td>NASA-GISS</td>\n",
       "      <td>GISS-E2-1-G</td>\n",
       "      <td>piControl</td>\n",
       "      <td>r102i1p1f1</td>\n",
       "      <td>Lmon</td>\n",
       "      <td>mrsos</td>\n",
       "      <td>gn</td>\n",
       "      <td>none</td>\n",
       "      <td>r102i1p1f1</td>\n",
       "      <td>v20190815</td>\n",
       "      <td>gs://cmip6/CMIP6/CMIP/NASA-GISS/GISS-E2-1-G/pi...</td>\n",
       "    </tr>\n",
       "    <tr>\n",
       "      <th>3</th>\n",
       "      <td>ScenarioMIP</td>\n",
       "      <td>CCCma</td>\n",
       "      <td>CanESM5</td>\n",
       "      <td>ssp585</td>\n",
       "      <td>r6i1p2f1</td>\n",
       "      <td>Lmon</td>\n",
       "      <td>mrsos</td>\n",
       "      <td>gn</td>\n",
       "      <td>none</td>\n",
       "      <td>r6i1p2f1</td>\n",
       "      <td>v20190429</td>\n",
       "      <td>gs://cmip6/CMIP6/ScenarioMIP/CCCma/CanESM5/ssp...</td>\n",
       "    </tr>\n",
       "    <tr>\n",
       "      <th>4</th>\n",
       "      <td>ScenarioMIP</td>\n",
       "      <td>CCCma</td>\n",
       "      <td>CanESM5</td>\n",
       "      <td>ssp585</td>\n",
       "      <td>r25i1p1f1</td>\n",
       "      <td>Lmon</td>\n",
       "      <td>mrsos</td>\n",
       "      <td>gn</td>\n",
       "      <td>none</td>\n",
       "      <td>r25i1p1f1</td>\n",
       "      <td>v20190429</td>\n",
       "      <td>gs://cmip6/CMIP6/ScenarioMIP/CCCma/CanESM5/ssp...</td>\n",
       "    </tr>\n",
       "    <tr>\n",
       "      <th>...</th>\n",
       "      <td>...</td>\n",
       "      <td>...</td>\n",
       "      <td>...</td>\n",
       "      <td>...</td>\n",
       "      <td>...</td>\n",
       "      <td>...</td>\n",
       "      <td>...</td>\n",
       "      <td>...</td>\n",
       "      <td>...</td>\n",
       "      <td>...</td>\n",
       "      <td>...</td>\n",
       "      <td>...</td>\n",
       "    </tr>\n",
       "    <tr>\n",
       "      <th>884</th>\n",
       "      <td>ScenarioMIP</td>\n",
       "      <td>MOHC</td>\n",
       "      <td>UKESM1-0-LL</td>\n",
       "      <td>ssp126</td>\n",
       "      <td>r3i1p1f2</td>\n",
       "      <td>Lmon</td>\n",
       "      <td>mrsos</td>\n",
       "      <td>gn</td>\n",
       "      <td>none</td>\n",
       "      <td>r3i1p1f2</td>\n",
       "      <td>v20190507</td>\n",
       "      <td>gs://cmip6/CMIP6/ScenarioMIP/MOHC/UKESM1-0-LL/...</td>\n",
       "    </tr>\n",
       "    <tr>\n",
       "      <th>885</th>\n",
       "      <td>ScenarioMIP</td>\n",
       "      <td>IPSL</td>\n",
       "      <td>IPSL-CM6A-LR</td>\n",
       "      <td>ssp245</td>\n",
       "      <td>r2i1p1f1</td>\n",
       "      <td>Lmon</td>\n",
       "      <td>mrsos</td>\n",
       "      <td>gr</td>\n",
       "      <td>none</td>\n",
       "      <td>r2i1p1f1</td>\n",
       "      <td>v20190516</td>\n",
       "      <td>gs://cmip6/CMIP6/ScenarioMIP/IPSL/IPSL-CM6A-LR...</td>\n",
       "    </tr>\n",
       "    <tr>\n",
       "      <th>886</th>\n",
       "      <td>DAMIP</td>\n",
       "      <td>BCC</td>\n",
       "      <td>BCC-CSM2-MR</td>\n",
       "      <td>hist-nat</td>\n",
       "      <td>r2i1p1f1</td>\n",
       "      <td>Lmon</td>\n",
       "      <td>mrsos</td>\n",
       "      <td>gn</td>\n",
       "      <td>none</td>\n",
       "      <td>r2i1p1f1</td>\n",
       "      <td>v20190505</td>\n",
       "      <td>gs://cmip6/CMIP6/DAMIP/BCC/BCC-CSM2-MR/hist-na...</td>\n",
       "    </tr>\n",
       "    <tr>\n",
       "      <th>887</th>\n",
       "      <td>CMIP</td>\n",
       "      <td>MOHC</td>\n",
       "      <td>UKESM1-0-LL</td>\n",
       "      <td>historical</td>\n",
       "      <td>r8i1p1f2</td>\n",
       "      <td>Lmon</td>\n",
       "      <td>mrsos</td>\n",
       "      <td>gn</td>\n",
       "      <td>none</td>\n",
       "      <td>r8i1p1f2</td>\n",
       "      <td>v20190502</td>\n",
       "      <td>gs://cmip6/CMIP6/CMIP/MOHC/UKESM1-0-LL/histori...</td>\n",
       "    </tr>\n",
       "    <tr>\n",
       "      <th>888</th>\n",
       "      <td>CMIP</td>\n",
       "      <td>NASA-GISS</td>\n",
       "      <td>GISS-E2-1-G</td>\n",
       "      <td>amip</td>\n",
       "      <td>r2i1p3f1</td>\n",
       "      <td>Lmon</td>\n",
       "      <td>mrsos</td>\n",
       "      <td>gn</td>\n",
       "      <td>none</td>\n",
       "      <td>r2i1p3f1</td>\n",
       "      <td>v20190522</td>\n",
       "      <td>gs://cmip6/CMIP6/CMIP/NASA-GISS/GISS-E2-1-G/am...</td>\n",
       "    </tr>\n",
       "  </tbody>\n",
       "</table>\n",
       "<p>889 rows × 12 columns</p>\n",
       "</div>"
      ],
      "text/plain": [
       "     activity_id institution_id     source_id experiment_id   member_id  \\\n",
       "0           CMIP      NASA-GISS   GISS-E2-1-G     piControl  r101i1p1f1   \n",
       "1          C4MIP      NASA-GISS   GISS-E2-1-G   1pctCO2-bgc  r101i1p1f1   \n",
       "2           CMIP      NASA-GISS   GISS-E2-1-G     piControl  r102i1p1f1   \n",
       "3    ScenarioMIP          CCCma       CanESM5        ssp585    r6i1p2f1   \n",
       "4    ScenarioMIP          CCCma       CanESM5        ssp585   r25i1p1f1   \n",
       "..           ...            ...           ...           ...         ...   \n",
       "884  ScenarioMIP           MOHC   UKESM1-0-LL        ssp126    r3i1p1f2   \n",
       "885  ScenarioMIP           IPSL  IPSL-CM6A-LR        ssp245    r2i1p1f1   \n",
       "886        DAMIP            BCC   BCC-CSM2-MR      hist-nat    r2i1p1f1   \n",
       "887         CMIP           MOHC   UKESM1-0-LL    historical    r8i1p1f2   \n",
       "888         CMIP      NASA-GISS   GISS-E2-1-G          amip    r2i1p3f1   \n",
       "\n",
       "    table_id variable_id grid_label sub_experiment_id variant_label  \\\n",
       "0       Lmon       mrsos         gn              none    r101i1p1f1   \n",
       "1       Lmon       mrsos         gn              none    r101i1p1f1   \n",
       "2       Lmon       mrsos         gn              none    r102i1p1f1   \n",
       "3       Lmon       mrsos         gn              none      r6i1p2f1   \n",
       "4       Lmon       mrsos         gn              none     r25i1p1f1   \n",
       "..       ...         ...        ...               ...           ...   \n",
       "884     Lmon       mrsos         gn              none      r3i1p1f2   \n",
       "885     Lmon       mrsos         gr              none      r2i1p1f1   \n",
       "886     Lmon       mrsos         gn              none      r2i1p1f1   \n",
       "887     Lmon       mrsos         gn              none      r8i1p1f2   \n",
       "888     Lmon       mrsos         gn              none      r2i1p3f1   \n",
       "\n",
       "       version                                             zstore  \n",
       "0    v20190815  gs://cmip6/CMIP6/CMIP/NASA-GISS/GISS-E2-1-G/pi...  \n",
       "1    v20190815  gs://cmip6/CMIP6/C4MIP/NASA-GISS/GISS-E2-1-G/1...  \n",
       "2    v20190815  gs://cmip6/CMIP6/CMIP/NASA-GISS/GISS-E2-1-G/pi...  \n",
       "3    v20190429  gs://cmip6/CMIP6/ScenarioMIP/CCCma/CanESM5/ssp...  \n",
       "4    v20190429  gs://cmip6/CMIP6/ScenarioMIP/CCCma/CanESM5/ssp...  \n",
       "..         ...                                                ...  \n",
       "884  v20190507  gs://cmip6/CMIP6/ScenarioMIP/MOHC/UKESM1-0-LL/...  \n",
       "885  v20190516  gs://cmip6/CMIP6/ScenarioMIP/IPSL/IPSL-CM6A-LR...  \n",
       "886  v20190505  gs://cmip6/CMIP6/DAMIP/BCC/BCC-CSM2-MR/hist-na...  \n",
       "887  v20190502  gs://cmip6/CMIP6/CMIP/MOHC/UKESM1-0-LL/histori...  \n",
       "888  v20190522  gs://cmip6/CMIP6/CMIP/NASA-GISS/GISS-E2-1-G/am...  \n",
       "\n",
       "[889 rows x 12 columns]"
      ]
     },
     "execution_count": 6,
     "metadata": {},
     "output_type": "execute_result"
    }
   ],
   "source": [
    "cats['mrsos'].df"
   ]
  },
  {
   "cell_type": "code",
   "execution_count": 7,
   "id": "55f1cc52-ec44-4545-9d15-663fa4c55dc5",
   "metadata": {
    "execution": {
     "iopub.execute_input": "2025-02-27T19:55:38.643185Z",
     "iopub.status.busy": "2025-02-27T19:55:38.642893Z",
     "iopub.status.idle": "2025-02-27T19:55:38.646594Z",
     "shell.execute_reply": "2025-02-27T19:55:38.645866Z",
     "shell.execute_reply.started": "2025-02-27T19:55:38.643153Z"
    }
   },
   "outputs": [],
   "source": [
    "# Set CMIP6 data parameters: each of these dict keys \n",
    "# is a column in the dataframe that gives the link \n",
    "# of each of the relevant files. Files defined by\n",
    "# each dict are processed separately. \n",
    "data_params_all =[{'experiment_id':'historical','table_id':'Lmon','variable_id':'mrsos','member_id':'r1i1p1f1'},\n",
    "               #{'experiment_id':'ssp370','table_id':'Lmon','variable_id':'mrsos','member_id':'r1i1p1f1'},\n",
    "               {'experiment_id':'ssp585','table_id':'Lmon','variable_id':'mrsos','member_id':'r1i1p1f1'}] \n"
   ]
  },
  {
   "cell_type": "markdown",
   "id": "aee63c3e-8328-47c7-9c14-30b004a6052b",
   "metadata": {},
   "source": [
    "## Subsetting\n",
    "\n",
    "Set parameters for spatiotemporal subsetting"
   ]
  },
  {
   "cell_type": "code",
   "execution_count": 8,
   "id": "eb31c150-6eb3-469b-8dd6-47423ddf4894",
   "metadata": {
    "execution": {
     "iopub.execute_input": "2025-02-27T19:55:38.647654Z",
     "iopub.status.busy": "2025-02-27T19:55:38.647483Z",
     "iopub.status.idle": "2025-02-27T19:55:38.651185Z",
     "shell.execute_reply": "2025-02-27T19:55:38.650659Z",
     "shell.execute_reply.started": "2025-02-27T19:55:38.647636Z"
    }
   },
   "outputs": [],
   "source": [
    "# Set parameters for spatiotemporal subsetting\n",
    "subset_params_all = [{'lat':[-60,15],\n",
    "                      'lon':[-85,-33],\n",
    "                      'time':{'historical':['1979-01-01','2014-12-31'], # specify the experiment id for each time range\n",
    "                              #'ssp370':['2015-01-01','2100-12-31'], \n",
    "                              'ssp585':['2015-01-01','2100-12-31'],\n",
    "                             }, \n",
    "                 'fn_suffix':'_SouthAmerica', # added to end of filename when saving\n",
    "                 'lon_range':180, # 180 or 360 - do you want your output file to count lon -180:180 or 0:360?\n",
    "                 'lon_origin':-180}] # set origin (first lon value) of pre-processed grid. "
   ]
  },
  {
   "cell_type": "markdown",
   "id": "b534968f-55bb-41b5-889b-a52ed4876be6",
   "metadata": {},
   "source": [
    "## `fix_lons` auxillary funciton"
   ]
  },
  {
   "cell_type": "code",
   "execution_count": 9,
   "id": "18cd17ad-4b3f-4dab-9ee1-88f0ef6dda46",
   "metadata": {
    "execution": {
     "iopub.execute_input": "2025-02-27T19:55:38.652276Z",
     "iopub.status.busy": "2025-02-27T19:55:38.652109Z",
     "iopub.status.idle": "2025-02-27T19:55:38.658269Z",
     "shell.execute_reply": "2025-02-27T19:55:38.657668Z",
     "shell.execute_reply.started": "2025-02-27T19:55:38.652259Z"
    }
   },
   "outputs": [],
   "source": [
    "def fix_lons(ds,subset_params):\n",
    "    \"\"\"\n",
    "    This function fixes a few issues that show up when dealing with \n",
    "    longitude values. \n",
    "    \n",
    "    Input: an xarray dataset, with a longitude dimension called \"lon\"\n",
    "    \n",
    "    Changes: \n",
    "    - The dataset is re-indexed to -180:180 or 0:360 longitude format, \n",
    "      depending on the subset_params['lon_range'] parameter\n",
    "    - the origin (the first longitude value) is changed to the closest \n",
    "      lon value to subset_params['lon_origin'], if using a 0:360 range. \n",
    "      In other words, the range becomes [lon_origin:360 0:lon_origin]. \n",
    "      This is to make sure the subsetting occurs in the 'right' direction, \n",
    "      with the longitude indices increasing consecutively (this is to ensure\n",
    "      that subsetting to, say, [45, 275] doesn't subset to [275, 45] or vice-\n",
    "      versa). Set lon_origin to a longitude value lower than your first subset \n",
    "      value.\n",
    "    \"\"\"\n",
    "\n",
    "    ## save the attrs for l8rs\n",
    "    tmp_attrs = ds.lon.attrs\n",
    "    \n",
    "    if subset_params['lon_range']==180:\n",
    "        # Switch to -180:180 longitude if necessary\n",
    "        if any (ds.lon>180):\n",
    "            ds = ds.assign_coords(lon=(((ds.lon + 180) % 360) - 180))\n",
    "        # Change origin to half the world over, to allow for the \n",
    "        # longitude indexing to cross the prime meridian, but only\n",
    "        # if the first lon isn't around -180 (using 5deg as an approx\n",
    "        # biggest grid spacing). This is intended to move [0:180 -180:0]\n",
    "        # to [-180:0:180].\n",
    "        if ds.lon[0] > -175:\n",
    "            ds = ds.roll(lon=(ds.sizes['lon'] // 2),roll_coords=True)\n",
    "    elif subset_params['lon_range']==360:\n",
    "        # Switch to 0:360 longitude if necessary\n",
    "        ds = ds.assign_coords(lon = ds.lon % 360)\n",
    "        # Change origin to the lon_origin\n",
    "        ds = ds.roll(lon=-((ds.lon // subset_params['lon_origin'])==1).values.nonzero()[0][0],roll_coords=True)\n",
    "\n",
    "\n",
    "    ds.lon.attrs = tmp_attrs\n",
    "    return ds\n"
   ]
  },
  {
   "cell_type": "markdown",
   "id": "ecc8fbb6-1190-4fa8-b8ca-da8b42ecc1da",
   "metadata": {},
   "source": [
    "# Process\n",
    "\n",
    "version 1 using gcsfs and csv"
   ]
  },
  {
   "cell_type": "code",
   "execution_count": 10,
   "id": "1179ad41-777d-4172-b4b1-b593f597ad3b",
   "metadata": {
    "execution": {
     "iopub.execute_input": "2025-02-27T19:55:38.659597Z",
     "iopub.status.busy": "2025-02-27T19:55:38.659350Z",
     "iopub.status.idle": "2025-02-27T19:55:38.667244Z",
     "shell.execute_reply": "2025-02-27T19:55:38.666702Z",
     "shell.execute_reply.started": "2025-02-27T19:55:38.659571Z"
    }
   },
   "outputs": [],
   "source": [
    "## Prepare the full query for all the datasets that will end up getting use in this \n",
    "# process - this is to create the master dataset, so to build up the 'model' and \n",
    "# 'experiment' dimension in the dataset with all the values that will end up used\n",
    "source_calls = np.zeros(len(data_params_all[0].keys()))\n",
    "\n",
    "for key in data_params_all[0].keys():\n",
    "    if len(np.unique([x[key] for x in data_params_all]))==1:\n",
    "        source_calls[list(data_params_all[0].keys()).index(key)] = 1\n",
    "\n",
    "# First get all the ones with the same value for each key \n",
    "subset_query = ' and '.join([k+\" == '\"+data_params_all[0][k]+\"'\" for k in itemgetter(*source_calls.nonzero()[0])(list(data_params_all[0].keys()))])\n",
    "\n",
    "# Now add all that are different between subset params - i.e. those that need an OR statement\n",
    "# These have to be in two statements, because if there's only one OR'ed statement, then the \n",
    "# for k in statement goes through the letters instead of the keys. \n",
    "if len((source_calls-1).nonzero()[0])==1:\n",
    "    subset_query=subset_query+' and ('+') and ('.join([' or '.join([k+\" == '\"+data_params[k]+\"'\" for data_params in data_params_all]) \n",
    "              for k in [itemgetter(*(source_calls-1).nonzero()[0])(list(data_params_all[0].keys()))]])+')'\n",
    "elif len((source_calls-1).nonzero()[0])>1:\n",
    "    subset_query=subset_query+' and ('+') and ('.join([' or '.join([k+\" == '\"+data_params[k]+\"'\" for data_params in data_params_all]) \n",
    "              for k in itemgetter(*(source_calls-1).nonzero()[0])(list(data_params_all[0].keys()))])+')'"
   ]
  },
  {
   "cell_type": "code",
   "execution_count": 11,
   "id": "6dd5eb02-32e0-4b88-a439-7dbde23ea1d4",
   "metadata": {
    "execution": {
     "iopub.execute_input": "2025-02-27T19:55:38.668233Z",
     "iopub.status.busy": "2025-02-27T19:55:38.668050Z",
     "iopub.status.idle": "2025-02-27T19:55:38.672647Z",
     "shell.execute_reply": "2025-02-27T19:55:38.672074Z",
     "shell.execute_reply.started": "2025-02-27T19:55:38.668215Z"
    }
   },
   "outputs": [
    {
     "data": {
      "text/plain": [
       "\"table_id == 'Lmon' and variable_id == 'mrsos' and member_id == 'r1i1p1f1' and (experiment_id == 'historical' or experiment_id == 'ssp585')\""
      ]
     },
     "execution_count": 11,
     "metadata": {},
     "output_type": "execute_result"
    }
   ],
   "source": [
    "subset_query"
   ]
  },
  {
   "cell_type": "code",
   "execution_count": 12,
   "id": "0eb68a19-e997-4c3a-9275-34f66f35fa03",
   "metadata": {
    "execution": {
     "iopub.execute_input": "2025-02-27T19:55:38.673662Z",
     "iopub.status.busy": "2025-02-27T19:55:38.673497Z",
     "iopub.status.idle": "2025-02-27T19:55:50.732650Z",
     "shell.execute_reply": "2025-02-27T19:55:50.732141Z",
     "shell.execute_reply.started": "2025-02-27T19:55:38.673645Z"
    }
   },
   "outputs": [],
   "source": [
    "# Access google cloud storage links\n",
    "fs = gcsfs.GCSFileSystem(token='anon', access='read_only')\n",
    "\n",
    "# Get info about CMIP6 datasets\n",
    "cmip6_datasets = pd.read_csv('https://storage.googleapis.com/cmip6/cmip6-zarr-consolidated-stores.csv')\n",
    "# Get subset based on the data params above (for all search parameters)\n",
    "cmip6_sub = cmip6_datasets.query(subset_query)\n",
    "\n",
    "if len(cmip6_sub) == 0:\n",
    "    warnings.warn('Query unsuccessful, no files found! Check to make sure your table_id matches the domain - for example, SSTs are listed as \"Oday\" instead of \"day\"')\n",
    "    "
   ]
  },
  {
   "cell_type": "markdown",
   "id": "b0bdedf2-b4ad-4378-9c68-7398969f532a",
   "metadata": {},
   "source": [
    "# Process\n",
    "\n",
    "v2 using intake"
   ]
  },
  {
   "cell_type": "code",
   "execution_count": 13,
   "id": "f82d9b06-caa4-4825-98c5-c5a53a64ee7a",
   "metadata": {
    "execution": {
     "iopub.execute_input": "2025-02-27T19:55:50.733542Z",
     "iopub.status.busy": "2025-02-27T19:55:50.733376Z",
     "iopub.status.idle": "2025-02-27T19:56:03.029592Z",
     "shell.execute_reply": "2025-02-27T19:56:03.029074Z",
     "shell.execute_reply.started": "2025-02-27T19:55:50.733525Z"
    }
   },
   "outputs": [],
   "source": [
    "import intake\n",
    "\n",
    "# Define the catalog URL\n",
    "url = \"https://storage.googleapis.com/cmip6/cmip6-pgf-ingestion-test/catalog/catalog.json\"\n",
    "\n",
    "# Open the ESM datastore\n",
    "col = intake.open_esm_datastore(url)\n",
    "\n",
    "# Define search criteria\n",
    "varlist = ['mrsos']\n",
    "table_id = 'Lmon'\n",
    "experiment_ids = ['historical', 'ssp585']\n",
    "\n",
    "# Search without specifying member_id \n",
    "df_filtered = col.search(\n",
    "    variable_id=varlist,\n",
    "    table_id=table_id,\n",
    "    experiment_id=experiment_ids\n",
    ").df\n",
    "\n",
    "# find member_ids that appear in all experiments for each model (source_id)\n",
    "valid_members = (\n",
    "    df_filtered.groupby(['source_id', 'member_id'])['experiment_id']\n",
    "    .apply(lambda exp_ids: set(experiment_ids).issubset(set(exp_ids)))  # Check if all experiments exist\n",
    ")\n",
    "\n",
    "# get valid (source_id, member_id) pairs\n",
    "valid_pairs = valid_members[valid_members].index.tolist()\n",
    "\n",
    "# keep only valid (source_id, member_id) combos\n",
    "cmip6_sub = df_filtered[\n",
    "    df_filtered.set_index(['source_id', 'member_id']).index.isin(valid_pairs)\n",
    "]\n"
   ]
  },
  {
   "cell_type": "code",
   "execution_count": 14,
   "id": "2289075b-53fc-4c45-a51f-d98a3a4cd7cf",
   "metadata": {
    "execution": {
     "iopub.execute_input": "2025-02-27T19:56:03.030546Z",
     "iopub.status.busy": "2025-02-27T19:56:03.030389Z",
     "iopub.status.idle": "2025-02-27T19:56:03.032861Z",
     "shell.execute_reply": "2025-02-27T19:56:03.032455Z",
     "shell.execute_reply.started": "2025-02-27T19:56:03.030529Z"
    }
   },
   "outputs": [],
   "source": [
    "#cmip6_sub = cmip6_sub[(cmip6_sub.source_id == 'UKESM1-0-LL') & (cmip6_sub.member_id == 'r1i1p1f2')]"
   ]
  },
  {
   "cell_type": "code",
   "execution_count": 15,
   "id": "b86c3d50-af64-4bb9-b631-d594accc9014",
   "metadata": {
    "execution": {
     "iopub.execute_input": "2025-02-27T19:56:03.033581Z",
     "iopub.status.busy": "2025-02-27T19:56:03.033438Z",
     "iopub.status.idle": "2025-02-27T19:56:03.035750Z",
     "shell.execute_reply": "2025-02-27T19:56:03.035351Z",
     "shell.execute_reply.started": "2025-02-27T19:56:03.033565Z"
    }
   },
   "outputs": [],
   "source": [
    "#cmip6_sub "
   ]
  },
  {
   "cell_type": "code",
   "execution_count": 16,
   "id": "b1f8a14b-33fb-4710-b37e-f2353bf1fa6f",
   "metadata": {
    "execution": {
     "iopub.execute_input": "2025-02-27T19:56:03.037030Z",
     "iopub.status.busy": "2025-02-27T19:56:03.036797Z",
     "iopub.status.idle": "2025-02-27T19:56:03.040233Z",
     "shell.execute_reply": "2025-02-27T19:56:03.039602Z",
     "shell.execute_reply.started": "2025-02-27T19:56:03.036971Z"
    }
   },
   "outputs": [],
   "source": [
    "# Set CMIP6 data parameters: each of these dict keys \n",
    "# is a column in the dataframe that gives the link \n",
    "# of each of the relevant files. Files defined by\n",
    "# each dict are processed separately. \n",
    "data_params_all =[{'experiment_id':'historical','table_id':'Lmon','variable_id':'mrsos'},\n",
    "               #{'experiment_id':'ssp370','table_id':'Lmon','variable_id':'mrsos'},\n",
    "               {'experiment_id':'ssp585','table_id':'Lmon','variable_id':'mrsos'}] \n"
   ]
  },
  {
   "cell_type": "code",
   "execution_count": 17,
   "id": "1f760706-0695-4d4e-9607-c86e5d5ee38b",
   "metadata": {
    "execution": {
     "iopub.execute_input": "2025-02-27T19:56:03.041342Z",
     "iopub.status.busy": "2025-02-27T19:56:03.041130Z",
     "iopub.status.idle": "2025-02-27T19:56:03.044683Z",
     "shell.execute_reply": "2025-02-27T19:56:03.044174Z",
     "shell.execute_reply.started": "2025-02-27T19:56:03.041321Z"
    }
   },
   "outputs": [
    {
     "data": {
      "text/plain": [
       "[{'experiment_id': 'historical', 'table_id': 'Lmon', 'variable_id': 'mrsos'},\n",
       " {'experiment_id': 'ssp585', 'table_id': 'Lmon', 'variable_id': 'mrsos'}]"
      ]
     },
     "execution_count": 17,
     "metadata": {},
     "output_type": "execute_result"
    }
   ],
   "source": [
    "data_params_all"
   ]
  },
  {
   "cell_type": "code",
   "execution_count": 18,
   "id": "2518aa53-b732-41d8-b596-b8fa08e1446a",
   "metadata": {
    "execution": {
     "iopub.execute_input": "2025-02-27T19:56:03.045874Z",
     "iopub.status.busy": "2025-02-27T19:56:03.045689Z",
     "iopub.status.idle": "2025-02-27T20:05:12.158969Z",
     "shell.execute_reply": "2025-02-27T20:05:12.158418Z",
     "shell.execute_reply.started": "2025-02-27T19:56:03.045856Z"
    },
    "scrolled": true
   },
   "outputs": [
    {
     "data": {
      "application/json": {
       "ascii": false,
       "bar_format": null,
       "colour": null,
       "elapsed": 0.008834123611450195,
       "initial": 0,
       "n": 0,
       "ncols": null,
       "nrows": 27,
       "postfix": null,
       "prefix": "",
       "rate": null,
       "total": 160,
       "unit": "it",
       "unit_divisor": 1000,
       "unit_scale": false
      },
      "application/vnd.jupyter.widget-view+json": {
       "model_id": "9642b7dbfba44e538e5951c798bba67f",
       "version_major": 2,
       "version_minor": 0
      },
      "text/plain": [
       "  0%|          | 0/160 [00:00<?, ?it/s]"
      ]
     },
     "metadata": {},
     "output_type": "display_data"
    },
    {
     "name": "stderr",
     "output_type": "stream",
     "text": [
      "/var/folders/72/gq_qh34d21xgnsw2_5sf25rh0000gn/T/ipykernel_19278/997733635.py:111: UserWarning: Directory /Users/miriam/Documents/02_academia/02_PhD/research/projects/dirt-in-sesa/CMIP6_data/CanESM5/ created!\n",
      "  warnings.warn('Directory '+cfg.lpaths['raw_data_dir']+url.split('/')[6]+'/'+' created!')\n"
     ]
    },
    {
     "name": "stdout",
     "output_type": "stream",
     "text": [
      "/Users/miriam/Documents/02_academia/02_PhD/research/projects/dirt-in-sesa/CMIP6_data/CanESM5/mrsos_Lmon_CanESM5_historical_r6i1p2f1_19790101-20141231_SouthAmerica.nc processed!\n",
      "/Users/miriam/Documents/02_academia/02_PhD/research/projects/dirt-in-sesa/CMIP6_data/CanESM5/mrsos_Lmon_CanESM5_historical_r25i1p1f1_19790101-20141231_SouthAmerica.nc processed!\n",
      "/Users/miriam/Documents/02_academia/02_PhD/research/projects/dirt-in-sesa/CMIP6_data/CanESM5/mrsos_Lmon_CanESM5_historical_r24i1p2f1_19790101-20141231_SouthAmerica.nc processed!\n",
      "/Users/miriam/Documents/02_academia/02_PhD/research/projects/dirt-in-sesa/CMIP6_data/CanESM5/mrsos_Lmon_CanESM5_historical_r24i1p1f1_19790101-20141231_SouthAmerica.nc processed!\n",
      "/Users/miriam/Documents/02_academia/02_PhD/research/projects/dirt-in-sesa/CMIP6_data/CanESM5/mrsos_Lmon_CanESM5_historical_r25i1p2f1_19790101-20141231_SouthAmerica.nc processed!\n",
      "/Users/miriam/Documents/02_academia/02_PhD/research/projects/dirt-in-sesa/CMIP6_data/CanESM5/mrsos_Lmon_CanESM5_historical_r2i1p2f1_19790101-20141231_SouthAmerica.nc processed!\n",
      "/Users/miriam/Documents/02_academia/02_PhD/research/projects/dirt-in-sesa/CMIP6_data/CanESM5/mrsos_Lmon_CanESM5_historical_r23i1p1f1_19790101-20141231_SouthAmerica.nc processed!\n",
      "/Users/miriam/Documents/02_academia/02_PhD/research/projects/dirt-in-sesa/CMIP6_data/CanESM5/mrsos_Lmon_CanESM5_historical_r6i1p1f1_19790101-20141231_SouthAmerica.nc processed!\n"
     ]
    },
    {
     "name": "stderr",
     "output_type": "stream",
     "text": [
      "/var/folders/72/gq_qh34d21xgnsw2_5sf25rh0000gn/T/ipykernel_19278/997733635.py:111: UserWarning: Directory /Users/miriam/Documents/02_academia/02_PhD/research/projects/dirt-in-sesa/CMIP6_data/IPSL-CM6A-LR/ created!\n",
      "  warnings.warn('Directory '+cfg.lpaths['raw_data_dir']+url.split('/')[6]+'/'+' created!')\n"
     ]
    },
    {
     "name": "stdout",
     "output_type": "stream",
     "text": [
      "/Users/miriam/Documents/02_academia/02_PhD/research/projects/dirt-in-sesa/CMIP6_data/IPSL-CM6A-LR/mrsos_Lmon_IPSL-CM6A-LR_historical_r1i1p1f1_19790101-20141231_SouthAmerica.nc processed!\n"
     ]
    },
    {
     "name": "stderr",
     "output_type": "stream",
     "text": [
      "/var/folders/72/gq_qh34d21xgnsw2_5sf25rh0000gn/T/ipykernel_19278/997733635.py:111: UserWarning: Directory /Users/miriam/Documents/02_academia/02_PhD/research/projects/dirt-in-sesa/CMIP6_data/CNRM-CM6-1/ created!\n",
      "  warnings.warn('Directory '+cfg.lpaths['raw_data_dir']+url.split('/')[6]+'/'+' created!')\n"
     ]
    },
    {
     "name": "stdout",
     "output_type": "stream",
     "text": [
      "/Users/miriam/Documents/02_academia/02_PhD/research/projects/dirt-in-sesa/CMIP6_data/CNRM-CM6-1/mrsos_Lmon_CNRM-CM6-1_historical_r4i1p1f2_19790101-20141231_SouthAmerica.nc processed!\n"
     ]
    },
    {
     "name": "stderr",
     "output_type": "stream",
     "text": [
      "/var/folders/72/gq_qh34d21xgnsw2_5sf25rh0000gn/T/ipykernel_19278/997733635.py:111: UserWarning: Directory /Users/miriam/Documents/02_academia/02_PhD/research/projects/dirt-in-sesa/CMIP6_data/UKESM1-0-LL/ created!\n",
      "  warnings.warn('Directory '+cfg.lpaths['raw_data_dir']+url.split('/')[6]+'/'+' created!')\n"
     ]
    },
    {
     "name": "stdout",
     "output_type": "stream",
     "text": [
      "360-day\n",
      "/Users/miriam/Documents/02_academia/02_PhD/research/projects/dirt-in-sesa/CMIP6_data/UKESM1-0-LL/mrsos_Lmon_UKESM1-0-LL_historical_r1i1p1f2_19790101-20141231_SouthAmerica.nc processed!\n"
     ]
    },
    {
     "name": "stderr",
     "output_type": "stream",
     "text": [
      "/var/folders/72/gq_qh34d21xgnsw2_5sf25rh0000gn/T/ipykernel_19278/997733635.py:111: UserWarning: Directory /Users/miriam/Documents/02_academia/02_PhD/research/projects/dirt-in-sesa/CMIP6_data/BCC-CSM2-MR/ created!\n",
      "  warnings.warn('Directory '+cfg.lpaths['raw_data_dir']+url.split('/')[6]+'/'+' created!')\n"
     ]
    },
    {
     "name": "stdout",
     "output_type": "stream",
     "text": [
      "/Users/miriam/Documents/02_academia/02_PhD/research/projects/dirt-in-sesa/CMIP6_data/BCC-CSM2-MR/mrsos_Lmon_BCC-CSM2-MR_historical_r1i1p1f1_19790101-20141231_SouthAmerica.nc processed!\n"
     ]
    },
    {
     "name": "stderr",
     "output_type": "stream",
     "text": [
      "/var/folders/72/gq_qh34d21xgnsw2_5sf25rh0000gn/T/ipykernel_19278/997733635.py:111: UserWarning: Directory /Users/miriam/Documents/02_academia/02_PhD/research/projects/dirt-in-sesa/CMIP6_data/CESM2-WACCM/ created!\n",
      "  warnings.warn('Directory '+cfg.lpaths['raw_data_dir']+url.split('/')[6]+'/'+' created!')\n"
     ]
    },
    {
     "name": "stdout",
     "output_type": "stream",
     "text": [
      "/Users/miriam/Documents/02_academia/02_PhD/research/projects/dirt-in-sesa/CMIP6_data/CESM2-WACCM/mrsos_Lmon_CESM2-WACCM_historical_r1i1p1f1_19790101-20141231_SouthAmerica.nc processed!\n"
     ]
    },
    {
     "name": "stderr",
     "output_type": "stream",
     "text": [
      "/var/folders/72/gq_qh34d21xgnsw2_5sf25rh0000gn/T/ipykernel_19278/997733635.py:111: UserWarning: Directory /Users/miriam/Documents/02_academia/02_PhD/research/projects/dirt-in-sesa/CMIP6_data/FIO-ESM-2-0/ created!\n",
      "  warnings.warn('Directory '+cfg.lpaths['raw_data_dir']+url.split('/')[6]+'/'+' created!')\n"
     ]
    },
    {
     "name": "stdout",
     "output_type": "stream",
     "text": [
      "/Users/miriam/Documents/02_academia/02_PhD/research/projects/dirt-in-sesa/CMIP6_data/FIO-ESM-2-0/mrsos_Lmon_FIO-ESM-2-0_historical_r2i1p1f1_19790101-20141231_SouthAmerica.nc processed!\n",
      "/Users/miriam/Documents/02_academia/02_PhD/research/projects/dirt-in-sesa/CMIP6_data/CanESM5/mrsos_Lmon_CanESM5_historical_r7i1p2f1_19790101-20141231_SouthAmerica.nc processed!\n",
      "/Users/miriam/Documents/02_academia/02_PhD/research/projects/dirt-in-sesa/CMIP6_data/CanESM5/mrsos_Lmon_CanESM5_historical_r3i1p2f1_19790101-20141231_SouthAmerica.nc processed!\n"
     ]
    },
    {
     "name": "stderr",
     "output_type": "stream",
     "text": [
      "/var/folders/72/gq_qh34d21xgnsw2_5sf25rh0000gn/T/ipykernel_19278/997733635.py:32: UserWarning: All files already created for mrsos Lmon CanESM5 historical r6i1p2f1, skipped.\n",
      "  warnings.warn('All files already created for '+data_params['variable_id']+' '+\n"
     ]
    },
    {
     "name": "stdout",
     "output_type": "stream",
     "text": [
      "/Users/miriam/Documents/02_academia/02_PhD/research/projects/dirt-in-sesa/CMIP6_data/CanESM5/mrsos_Lmon_CanESM5_historical_r23i1p2f1_19790101-20141231_SouthAmerica.nc processed!\n",
      "/Users/miriam/Documents/02_academia/02_PhD/research/projects/dirt-in-sesa/CMIP6_data/CanESM5/mrsos_Lmon_CanESM5_historical_r5i1p2f1_19790101-20141231_SouthAmerica.nc processed!\n",
      "/Users/miriam/Documents/02_academia/02_PhD/research/projects/dirt-in-sesa/CMIP6_data/CanESM5/mrsos_Lmon_CanESM5_historical_r4i1p2f1_19790101-20141231_SouthAmerica.nc processed!\n"
     ]
    },
    {
     "name": "stderr",
     "output_type": "stream",
     "text": [
      "/var/folders/72/gq_qh34d21xgnsw2_5sf25rh0000gn/T/ipykernel_19278/997733635.py:32: UserWarning: All files already created for mrsos Lmon CanESM5 historical r6i1p1f1, skipped.\n",
      "  warnings.warn('All files already created for '+data_params['variable_id']+' '+\n"
     ]
    },
    {
     "name": "stdout",
     "output_type": "stream",
     "text": [
      "/Users/miriam/Documents/02_academia/02_PhD/research/projects/dirt-in-sesa/CMIP6_data/CanESM5/mrsos_Lmon_CanESM5_historical_r11i1p1f1_19790101-20141231_SouthAmerica.nc processed!\n"
     ]
    },
    {
     "name": "stderr",
     "output_type": "stream",
     "text": [
      "/var/folders/72/gq_qh34d21xgnsw2_5sf25rh0000gn/T/ipykernel_19278/997733635.py:111: UserWarning: Directory /Users/miriam/Documents/02_academia/02_PhD/research/projects/dirt-in-sesa/CMIP6_data/CanESM5-CanOE/ created!\n",
      "  warnings.warn('Directory '+cfg.lpaths['raw_data_dir']+url.split('/')[6]+'/'+' created!')\n"
     ]
    },
    {
     "name": "stdout",
     "output_type": "stream",
     "text": [
      "/Users/miriam/Documents/02_academia/02_PhD/research/projects/dirt-in-sesa/CMIP6_data/CanESM5-CanOE/mrsos_Lmon_CanESM5-CanOE_historical_r2i1p2f1_19790101-20141231_SouthAmerica.nc processed!\n",
      "/Users/miriam/Documents/02_academia/02_PhD/research/projects/dirt-in-sesa/CMIP6_data/CanESM5/mrsos_Lmon_CanESM5_historical_r12i1p2f1_19790101-20141231_SouthAmerica.nc processed!\n",
      "/Users/miriam/Documents/02_academia/02_PhD/research/projects/dirt-in-sesa/CMIP6_data/CanESM5/mrsos_Lmon_CanESM5_historical_r11i1p2f1_19790101-20141231_SouthAmerica.nc processed!\n",
      "/Users/miriam/Documents/02_academia/02_PhD/research/projects/dirt-in-sesa/CMIP6_data/CanESM5/mrsos_Lmon_CanESM5_historical_r13i1p1f1_19790101-20141231_SouthAmerica.nc processed!\n",
      "/Users/miriam/Documents/02_academia/02_PhD/research/projects/dirt-in-sesa/CMIP6_data/CanESM5/mrsos_Lmon_CanESM5_historical_r9i1p2f1_19790101-20141231_SouthAmerica.nc processed!\n",
      "/Users/miriam/Documents/02_academia/02_PhD/research/projects/dirt-in-sesa/CMIP6_data/CanESM5-CanOE/mrsos_Lmon_CanESM5-CanOE_historical_r3i1p2f1_19790101-20141231_SouthAmerica.nc processed!\n",
      "/Users/miriam/Documents/02_academia/02_PhD/research/projects/dirt-in-sesa/CMIP6_data/CanESM5/mrsos_Lmon_CanESM5_historical_r8i1p2f1_19790101-20141231_SouthAmerica.nc processed!\n"
     ]
    },
    {
     "name": "stderr",
     "output_type": "stream",
     "text": [
      "/var/folders/72/gq_qh34d21xgnsw2_5sf25rh0000gn/T/ipykernel_19278/997733635.py:32: UserWarning: All files already created for mrsos Lmon CanESM5 historical r4i1p2f1, skipped.\n",
      "  warnings.warn('All files already created for '+data_params['variable_id']+' '+\n"
     ]
    },
    {
     "name": "stdout",
     "output_type": "stream",
     "text": [
      "/Users/miriam/Documents/02_academia/02_PhD/research/projects/dirt-in-sesa/CMIP6_data/CanESM5/mrsos_Lmon_CanESM5_historical_r17i1p1f1_19790101-20141231_SouthAmerica.nc processed!\n"
     ]
    },
    {
     "name": "stderr",
     "output_type": "stream",
     "text": [
      "/var/folders/72/gq_qh34d21xgnsw2_5sf25rh0000gn/T/ipykernel_19278/997733635.py:32: UserWarning: All files already created for mrsos Lmon CanESM5 historical r12i1p2f1, skipped.\n",
      "  warnings.warn('All files already created for '+data_params['variable_id']+' '+\n",
      "/var/folders/72/gq_qh34d21xgnsw2_5sf25rh0000gn/T/ipykernel_19278/997733635.py:32: UserWarning: All files already created for mrsos Lmon CanESM5 historical r11i1p2f1, skipped.\n",
      "  warnings.warn('All files already created for '+data_params['variable_id']+' '+\n"
     ]
    },
    {
     "name": "stdout",
     "output_type": "stream",
     "text": [
      "/Users/miriam/Documents/02_academia/02_PhD/research/projects/dirt-in-sesa/CMIP6_data/CanESM5/mrsos_Lmon_CanESM5_historical_r10i1p2f1_19790101-20141231_SouthAmerica.nc processed!\n"
     ]
    },
    {
     "name": "stderr",
     "output_type": "stream",
     "text": [
      "/var/folders/72/gq_qh34d21xgnsw2_5sf25rh0000gn/T/ipykernel_19278/997733635.py:32: UserWarning: All files already created for mrsos Lmon CanESM5 historical r7i1p2f1, skipped.\n",
      "  warnings.warn('All files already created for '+data_params['variable_id']+' '+\n"
     ]
    },
    {
     "name": "stdout",
     "output_type": "stream",
     "text": [
      "/Users/miriam/Documents/02_academia/02_PhD/research/projects/dirt-in-sesa/CMIP6_data/CanESM5/mrsos_Lmon_CanESM5_historical_r12i1p1f1_19790101-20141231_SouthAmerica.nc processed!\n"
     ]
    },
    {
     "name": "stderr",
     "output_type": "stream",
     "text": [
      "/var/folders/72/gq_qh34d21xgnsw2_5sf25rh0000gn/T/ipykernel_19278/997733635.py:32: UserWarning: All files already created for mrsos Lmon CanESM5 historical r25i1p2f1, skipped.\n",
      "  warnings.warn('All files already created for '+data_params['variable_id']+' '+\n",
      "/var/folders/72/gq_qh34d21xgnsw2_5sf25rh0000gn/T/ipykernel_19278/997733635.py:32: UserWarning: All files already created for mrsos Lmon CanESM5 historical r5i1p2f1, skipped.\n",
      "  warnings.warn('All files already created for '+data_params['variable_id']+' '+\n",
      "/var/folders/72/gq_qh34d21xgnsw2_5sf25rh0000gn/T/ipykernel_19278/997733635.py:32: UserWarning: All files already created for mrsos Lmon CanESM5 historical r12i1p1f1, skipped.\n",
      "  warnings.warn('All files already created for '+data_params['variable_id']+' '+\n"
     ]
    },
    {
     "name": "stdout",
     "output_type": "stream",
     "text": [
      "/Users/miriam/Documents/02_academia/02_PhD/research/projects/dirt-in-sesa/CMIP6_data/CNRM-CM6-1/mrsos_Lmon_CNRM-CM6-1_historical_r1i1p1f2_19790101-20141231_SouthAmerica.nc processed!\n",
      "/Users/miriam/Documents/02_academia/02_PhD/research/projects/dirt-in-sesa/CMIP6_data/IPSL-CM6A-LR/mrsos_Lmon_IPSL-CM6A-LR_historical_r14i1p1f1_19790101-20141231_SouthAmerica.nc processed!\n",
      "/Users/miriam/Documents/02_academia/02_PhD/research/projects/dirt-in-sesa/CMIP6_data/CanESM5/mrsos_Lmon_CanESM5_historical_r19i1p2f1_19790101-20141231_SouthAmerica.nc processed!\n",
      "/Users/miriam/Documents/02_academia/02_PhD/research/projects/dirt-in-sesa/CMIP6_data/CanESM5/mrsos_Lmon_CanESM5_historical_r21i1p1f1_19790101-20141231_SouthAmerica.nc processed!\n",
      "/Users/miriam/Documents/02_academia/02_PhD/research/projects/dirt-in-sesa/CMIP6_data/CanESM5/mrsos_Lmon_CanESM5_historical_r21i1p2f1_19790101-20141231_SouthAmerica.nc processed!\n",
      "/Users/miriam/Documents/02_academia/02_PhD/research/projects/dirt-in-sesa/CMIP6_data/CanESM5/mrsos_Lmon_CanESM5_historical_r17i1p2f1_19790101-20141231_SouthAmerica.nc processed!\n",
      "/Users/miriam/Documents/02_academia/02_PhD/research/projects/dirt-in-sesa/CMIP6_data/CanESM5/mrsos_Lmon_CanESM5_historical_r18i1p1f1_19790101-20141231_SouthAmerica.nc processed!\n"
     ]
    },
    {
     "name": "stderr",
     "output_type": "stream",
     "text": [
      "/var/folders/72/gq_qh34d21xgnsw2_5sf25rh0000gn/T/ipykernel_19278/997733635.py:32: UserWarning: All files already created for mrsos Lmon CanESM5 historical r9i1p2f1, skipped.\n",
      "  warnings.warn('All files already created for '+data_params['variable_id']+' '+\n"
     ]
    },
    {
     "name": "stdout",
     "output_type": "stream",
     "text": [
      "/Users/miriam/Documents/02_academia/02_PhD/research/projects/dirt-in-sesa/CMIP6_data/CanESM5/mrsos_Lmon_CanESM5_historical_r16i1p1f1_19790101-20141231_SouthAmerica.nc processed!\n",
      "/Users/miriam/Documents/02_academia/02_PhD/research/projects/dirt-in-sesa/CMIP6_data/CanESM5/mrsos_Lmon_CanESM5_historical_r15i1p2f1_19790101-20141231_SouthAmerica.nc processed!\n",
      "/Users/miriam/Documents/02_academia/02_PhD/research/projects/dirt-in-sesa/CMIP6_data/CanESM5/mrsos_Lmon_CanESM5_historical_r20i1p1f1_19790101-20141231_SouthAmerica.nc processed!\n"
     ]
    },
    {
     "name": "stderr",
     "output_type": "stream",
     "text": [
      "/var/folders/72/gq_qh34d21xgnsw2_5sf25rh0000gn/T/ipykernel_19278/997733635.py:32: UserWarning: All files already created for mrsos Lmon CanESM5 historical r20i1p1f1, skipped.\n",
      "  warnings.warn('All files already created for '+data_params['variable_id']+' '+\n"
     ]
    },
    {
     "name": "stdout",
     "output_type": "stream",
     "text": [
      "/Users/miriam/Documents/02_academia/02_PhD/research/projects/dirt-in-sesa/CMIP6_data/CanESM5/mrsos_Lmon_CanESM5_historical_r15i1p1f1_19790101-20141231_SouthAmerica.nc processed!\n",
      "/Users/miriam/Documents/02_academia/02_PhD/research/projects/dirt-in-sesa/CMIP6_data/CanESM5/mrsos_Lmon_CanESM5_historical_r14i1p2f1_19790101-20141231_SouthAmerica.nc processed!\n",
      "/Users/miriam/Documents/02_academia/02_PhD/research/projects/dirt-in-sesa/CMIP6_data/CanESM5/mrsos_Lmon_CanESM5_historical_r1i1p2f1_19790101-20141231_SouthAmerica.nc processed!\n",
      "/Users/miriam/Documents/02_academia/02_PhD/research/projects/dirt-in-sesa/CMIP6_data/CanESM5/mrsos_Lmon_CanESM5_historical_r16i1p2f1_19790101-20141231_SouthAmerica.nc processed!\n",
      "/Users/miriam/Documents/02_academia/02_PhD/research/projects/dirt-in-sesa/CMIP6_data/CanESM5/mrsos_Lmon_CanESM5_historical_r18i1p2f1_19790101-20141231_SouthAmerica.nc processed!\n"
     ]
    },
    {
     "name": "stderr",
     "output_type": "stream",
     "text": [
      "/var/folders/72/gq_qh34d21xgnsw2_5sf25rh0000gn/T/ipykernel_19278/997733635.py:32: UserWarning: All files already created for mrsos Lmon CanESM5 historical r15i1p2f1, skipped.\n",
      "  warnings.warn('All files already created for '+data_params['variable_id']+' '+\n"
     ]
    },
    {
     "name": "stdout",
     "output_type": "stream",
     "text": [
      "/Users/miriam/Documents/02_academia/02_PhD/research/projects/dirt-in-sesa/CMIP6_data/CanESM5/mrsos_Lmon_CanESM5_historical_r22i1p1f1_19790101-20141231_SouthAmerica.nc processed!\n",
      "/Users/miriam/Documents/02_academia/02_PhD/research/projects/dirt-in-sesa/CMIP6_data/CanESM5/mrsos_Lmon_CanESM5_historical_r14i1p1f1_19790101-20141231_SouthAmerica.nc processed!\n",
      "/Users/miriam/Documents/02_academia/02_PhD/research/projects/dirt-in-sesa/CMIP6_data/CanESM5/mrsos_Lmon_CanESM5_historical_r22i1p2f1_19790101-20141231_SouthAmerica.nc processed!\n",
      "/Users/miriam/Documents/02_academia/02_PhD/research/projects/dirt-in-sesa/CMIP6_data/CanESM5/mrsos_Lmon_CanESM5_historical_r20i1p2f1_19790101-20141231_SouthAmerica.nc processed!\n"
     ]
    },
    {
     "name": "stderr",
     "output_type": "stream",
     "text": [
      "/var/folders/72/gq_qh34d21xgnsw2_5sf25rh0000gn/T/ipykernel_19278/997733635.py:32: UserWarning: All files already created for mrsos Lmon CanESM5 historical r21i1p1f1, skipped.\n",
      "  warnings.warn('All files already created for '+data_params['variable_id']+' '+\n"
     ]
    },
    {
     "name": "stdout",
     "output_type": "stream",
     "text": [
      "/Users/miriam/Documents/02_academia/02_PhD/research/projects/dirt-in-sesa/CMIP6_data/CanESM5/mrsos_Lmon_CanESM5_historical_r19i1p1f1_19790101-20141231_SouthAmerica.nc processed!\n"
     ]
    },
    {
     "name": "stderr",
     "output_type": "stream",
     "text": [
      "/var/folders/72/gq_qh34d21xgnsw2_5sf25rh0000gn/T/ipykernel_19278/997733635.py:32: UserWarning: All files already created for mrsos Lmon CanESM5 historical r19i1p2f1, skipped.\n",
      "  warnings.warn('All files already created for '+data_params['variable_id']+' '+\n",
      "/var/folders/72/gq_qh34d21xgnsw2_5sf25rh0000gn/T/ipykernel_19278/997733635.py:32: UserWarning: All files already created for mrsos Lmon CanESM5 historical r20i1p2f1, skipped.\n",
      "  warnings.warn('All files already created for '+data_params['variable_id']+' '+\n"
     ]
    },
    {
     "name": "stdout",
     "output_type": "stream",
     "text": [
      "/Users/miriam/Documents/02_academia/02_PhD/research/projects/dirt-in-sesa/CMIP6_data/CanESM5/mrsos_Lmon_CanESM5_historical_r13i1p2f1_19790101-20141231_SouthAmerica.nc processed!\n"
     ]
    },
    {
     "name": "stderr",
     "output_type": "stream",
     "text": [
      "/var/folders/72/gq_qh34d21xgnsw2_5sf25rh0000gn/T/ipykernel_19278/997733635.py:32: UserWarning: All files already created for mrsos Lmon CanESM5 historical r19i1p1f1, skipped.\n",
      "  warnings.warn('All files already created for '+data_params['variable_id']+' '+\n",
      "/var/folders/72/gq_qh34d21xgnsw2_5sf25rh0000gn/T/ipykernel_19278/997733635.py:32: UserWarning: All files already created for mrsos Lmon CanESM5 historical r22i1p1f1, skipped.\n",
      "  warnings.warn('All files already created for '+data_params['variable_id']+' '+\n",
      "/var/folders/72/gq_qh34d21xgnsw2_5sf25rh0000gn/T/ipykernel_19278/997733635.py:32: UserWarning: All files already created for mrsos Lmon CanESM5 historical r21i1p2f1, skipped.\n",
      "  warnings.warn('All files already created for '+data_params['variable_id']+' '+\n",
      "/var/folders/72/gq_qh34d21xgnsw2_5sf25rh0000gn/T/ipykernel_19278/997733635.py:32: UserWarning: All files already created for mrsos Lmon CanESM5 historical r8i1p2f1, skipped.\n",
      "  warnings.warn('All files already created for '+data_params['variable_id']+' '+\n",
      "/var/folders/72/gq_qh34d21xgnsw2_5sf25rh0000gn/T/ipykernel_19278/997733635.py:32: UserWarning: All files already created for mrsos Lmon CanESM5 historical r1i1p2f1, skipped.\n",
      "  warnings.warn('All files already created for '+data_params['variable_id']+' '+\n",
      "/var/folders/72/gq_qh34d21xgnsw2_5sf25rh0000gn/T/ipykernel_19278/997733635.py:111: UserWarning: Directory /Users/miriam/Documents/02_academia/02_PhD/research/projects/dirt-in-sesa/CMIP6_data/GFDL-CM4/ created!\n",
      "  warnings.warn('Directory '+cfg.lpaths['raw_data_dir']+url.split('/')[6]+'/'+' created!')\n"
     ]
    },
    {
     "name": "stdout",
     "output_type": "stream",
     "text": [
      "/Users/miriam/Documents/02_academia/02_PhD/research/projects/dirt-in-sesa/CMIP6_data/GFDL-CM4/mrsos_Lmon_GFDL-CM4_historical_r1i1p1f1_19790101-20141231_SouthAmerica.nc processed!\n"
     ]
    },
    {
     "name": "stderr",
     "output_type": "stream",
     "text": [
      "/var/folders/72/gq_qh34d21xgnsw2_5sf25rh0000gn/T/ipykernel_19278/997733635.py:111: UserWarning: Directory /Users/miriam/Documents/02_academia/02_PhD/research/projects/dirt-in-sesa/CMIP6_data/MPI-ESM1-2-LR/ created!\n",
      "  warnings.warn('Directory '+cfg.lpaths['raw_data_dir']+url.split('/')[6]+'/'+' created!')\n"
     ]
    },
    {
     "name": "stdout",
     "output_type": "stream",
     "text": [
      "/Users/miriam/Documents/02_academia/02_PhD/research/projects/dirt-in-sesa/CMIP6_data/MPI-ESM1-2-LR/mrsos_Lmon_MPI-ESM1-2-LR_historical_r1i1p1f1_19790101-20141231_SouthAmerica.nc processed!\n",
      "/Users/miriam/Documents/02_academia/02_PhD/research/projects/dirt-in-sesa/CMIP6_data/MPI-ESM1-2-LR/mrsos_Lmon_MPI-ESM1-2-LR_historical_r10i1p1f1_19790101-20141231_SouthAmerica.nc processed!\n"
     ]
    },
    {
     "name": "stderr",
     "output_type": "stream",
     "text": [
      "/var/folders/72/gq_qh34d21xgnsw2_5sf25rh0000gn/T/ipykernel_19278/997733635.py:111: UserWarning: Directory /Users/miriam/Documents/02_academia/02_PhD/research/projects/dirt-in-sesa/CMIP6_data/MPI-ESM1-2-HR/ created!\n",
      "  warnings.warn('Directory '+cfg.lpaths['raw_data_dir']+url.split('/')[6]+'/'+' created!')\n"
     ]
    },
    {
     "name": "stdout",
     "output_type": "stream",
     "text": [
      "/Users/miriam/Documents/02_academia/02_PhD/research/projects/dirt-in-sesa/CMIP6_data/MPI-ESM1-2-HR/mrsos_Lmon_MPI-ESM1-2-HR_historical_r2i1p1f1_19790101-20141231_SouthAmerica.nc processed!\n"
     ]
    },
    {
     "name": "stderr",
     "output_type": "stream",
     "text": [
      "/var/folders/72/gq_qh34d21xgnsw2_5sf25rh0000gn/T/ipykernel_19278/997733635.py:111: UserWarning: Directory /Users/miriam/Documents/02_academia/02_PhD/research/projects/dirt-in-sesa/CMIP6_data/CNRM-ESM2-1/ created!\n",
      "  warnings.warn('Directory '+cfg.lpaths['raw_data_dir']+url.split('/')[6]+'/'+' created!')\n"
     ]
    },
    {
     "name": "stdout",
     "output_type": "stream",
     "text": [
      "/Users/miriam/Documents/02_academia/02_PhD/research/projects/dirt-in-sesa/CMIP6_data/CNRM-ESM2-1/mrsos_Lmon_CNRM-ESM2-1_historical_r1i1p1f2_19790101-20141231_SouthAmerica.nc processed!\n",
      "/Users/miriam/Documents/02_academia/02_PhD/research/projects/dirt-in-sesa/CMIP6_data/MPI-ESM1-2-HR/mrsos_Lmon_MPI-ESM1-2-HR_historical_r1i1p1f1_19790101-20141231_SouthAmerica.nc processed!\n"
     ]
    },
    {
     "name": "stderr",
     "output_type": "stream",
     "text": [
      "/var/folders/72/gq_qh34d21xgnsw2_5sf25rh0000gn/T/ipykernel_19278/997733635.py:32: UserWarning: All files already created for mrsos Lmon MPI-ESM1-2-HR historical r2i1p1f1, skipped.\n",
      "  warnings.warn('All files already created for '+data_params['variable_id']+' '+\n",
      "/var/folders/72/gq_qh34d21xgnsw2_5sf25rh0000gn/T/ipykernel_19278/997733635.py:32: UserWarning: All files already created for mrsos Lmon MPI-ESM1-2-HR historical r1i1p1f1, skipped.\n",
      "  warnings.warn('All files already created for '+data_params['variable_id']+' '+\n"
     ]
    },
    {
     "name": "stdout",
     "output_type": "stream",
     "text": [
      "/Users/miriam/Documents/02_academia/02_PhD/research/projects/dirt-in-sesa/CMIP6_data/MPI-ESM1-2-LR/mrsos_Lmon_MPI-ESM1-2-LR_historical_r3i1p1f1_19790101-20141231_SouthAmerica.nc processed!\n"
     ]
    },
    {
     "name": "stderr",
     "output_type": "stream",
     "text": [
      "/var/folders/72/gq_qh34d21xgnsw2_5sf25rh0000gn/T/ipykernel_19278/997733635.py:32: UserWarning: All files already created for mrsos Lmon CNRM-CM6-1 historical r1i1p1f2, skipped.\n",
      "  warnings.warn('All files already created for '+data_params['variable_id']+' '+\n"
     ]
    },
    {
     "name": "stdout",
     "output_type": "stream",
     "text": [
      "/Users/miriam/Documents/02_academia/02_PhD/research/projects/dirt-in-sesa/CMIP6_data/CNRM-CM6-1/mrsos_Lmon_CNRM-CM6-1_historical_r3i1p1f2_19790101-20141231_SouthAmerica.nc processed!\n",
      "/Users/miriam/Documents/02_academia/02_PhD/research/projects/dirt-in-sesa/CMIP6_data/CNRM-ESM2-1/mrsos_Lmon_CNRM-ESM2-1_historical_r2i1p1f2_19790101-20141231_SouthAmerica.nc processed!\n",
      "/Users/miriam/Documents/02_academia/02_PhD/research/projects/dirt-in-sesa/CMIP6_data/CNRM-CM6-1/mrsos_Lmon_CNRM-CM6-1_historical_r6i1p1f2_19790101-20141231_SouthAmerica.nc processed!\n",
      "/Users/miriam/Documents/02_academia/02_PhD/research/projects/dirt-in-sesa/CMIP6_data/CESM2-WACCM/mrsos_Lmon_CESM2-WACCM_historical_r3i1p1f1_19790101-20141231_SouthAmerica.nc processed!\n",
      "/Users/miriam/Documents/02_academia/02_PhD/research/projects/dirt-in-sesa/CMIP6_data/CNRM-ESM2-1/mrsos_Lmon_CNRM-ESM2-1_historical_r4i1p1f2_19790101-20141231_SouthAmerica.nc processed!\n",
      "/Users/miriam/Documents/02_academia/02_PhD/research/projects/dirt-in-sesa/CMIP6_data/CNRM-ESM2-1/mrsos_Lmon_CNRM-ESM2-1_historical_r3i1p1f2_19790101-20141231_SouthAmerica.nc processed!\n",
      "/Users/miriam/Documents/02_academia/02_PhD/research/projects/dirt-in-sesa/CMIP6_data/CNRM-ESM2-1/mrsos_Lmon_CNRM-ESM2-1_historical_r5i1p1f2_19790101-20141231_SouthAmerica.nc processed!\n"
     ]
    },
    {
     "name": "stderr",
     "output_type": "stream",
     "text": [
      "/var/folders/72/gq_qh34d21xgnsw2_5sf25rh0000gn/T/ipykernel_19278/997733635.py:32: UserWarning: All files already created for mrsos Lmon CNRM-CM6-1 historical r4i1p1f2, skipped.\n",
      "  warnings.warn('All files already created for '+data_params['variable_id']+' '+\n"
     ]
    },
    {
     "name": "stdout",
     "output_type": "stream",
     "text": [
      "/Users/miriam/Documents/02_academia/02_PhD/research/projects/dirt-in-sesa/CMIP6_data/CNRM-CM6-1/mrsos_Lmon_CNRM-CM6-1_historical_r5i1p1f2_19790101-20141231_SouthAmerica.nc processed!\n"
     ]
    },
    {
     "name": "stderr",
     "output_type": "stream",
     "text": [
      "/var/folders/72/gq_qh34d21xgnsw2_5sf25rh0000gn/T/ipykernel_19278/997733635.py:32: UserWarning: All files already created for mrsos Lmon CESM2-WACCM historical r1i1p1f1, skipped.\n",
      "  warnings.warn('All files already created for '+data_params['variable_id']+' '+\n"
     ]
    },
    {
     "name": "stdout",
     "output_type": "stream",
     "text": [
      "/Users/miriam/Documents/02_academia/02_PhD/research/projects/dirt-in-sesa/CMIP6_data/CESM2-WACCM/mrsos_Lmon_CESM2-WACCM_historical_r2i1p1f1_19790101-20141231_SouthAmerica.nc processed!\n",
      "/Users/miriam/Documents/02_academia/02_PhD/research/projects/dirt-in-sesa/CMIP6_data/IPSL-CM6A-LR/mrsos_Lmon_IPSL-CM6A-LR_historical_r3i1p1f1_19790101-20141231_SouthAmerica.nc processed!\n",
      "/Users/miriam/Documents/02_academia/02_PhD/research/projects/dirt-in-sesa/CMIP6_data/IPSL-CM6A-LR/mrsos_Lmon_IPSL-CM6A-LR_historical_r2i1p1f1_19790101-20141231_SouthAmerica.nc processed!\n",
      "/Users/miriam/Documents/02_academia/02_PhD/research/projects/dirt-in-sesa/CMIP6_data/IPSL-CM6A-LR/mrsos_Lmon_IPSL-CM6A-LR_historical_r6i1p1f1_19790101-20141231_SouthAmerica.nc processed!\n"
     ]
    },
    {
     "name": "stderr",
     "output_type": "stream",
     "text": [
      "/var/folders/72/gq_qh34d21xgnsw2_5sf25rh0000gn/T/ipykernel_19278/997733635.py:32: UserWarning: All files already created for mrsos Lmon IPSL-CM6A-LR historical r1i1p1f1, skipped.\n",
      "  warnings.warn('All files already created for '+data_params['variable_id']+' '+\n"
     ]
    },
    {
     "name": "stdout",
     "output_type": "stream",
     "text": [
      "/Users/miriam/Documents/02_academia/02_PhD/research/projects/dirt-in-sesa/CMIP6_data/IPSL-CM6A-LR/mrsos_Lmon_IPSL-CM6A-LR_historical_r4i1p1f1_19790101-20141231_SouthAmerica.nc processed!\n"
     ]
    },
    {
     "name": "stderr",
     "output_type": "stream",
     "text": [
      "/var/folders/72/gq_qh34d21xgnsw2_5sf25rh0000gn/T/ipykernel_19278/997733635.py:32: UserWarning: All files already created for mrsos Lmon CNRM-CM6-1 historical r3i1p1f2, skipped.\n",
      "  warnings.warn('All files already created for '+data_params['variable_id']+' '+\n",
      "/var/folders/72/gq_qh34d21xgnsw2_5sf25rh0000gn/T/ipykernel_19278/997733635.py:32: UserWarning: All files already created for mrsos Lmon CNRM-ESM2-1 historical r2i1p1f2, skipped.\n",
      "  warnings.warn('All files already created for '+data_params['variable_id']+' '+\n",
      "/var/folders/72/gq_qh34d21xgnsw2_5sf25rh0000gn/T/ipykernel_19278/997733635.py:32: UserWarning: All files already created for mrsos Lmon CNRM-ESM2-1 historical r3i1p1f2, skipped.\n",
      "  warnings.warn('All files already created for '+data_params['variable_id']+' '+\n",
      "/var/folders/72/gq_qh34d21xgnsw2_5sf25rh0000gn/T/ipykernel_19278/997733635.py:32: UserWarning: All files already created for mrsos Lmon CNRM-CM6-1 historical r5i1p1f2, skipped.\n",
      "  warnings.warn('All files already created for '+data_params['variable_id']+' '+\n",
      "/var/folders/72/gq_qh34d21xgnsw2_5sf25rh0000gn/T/ipykernel_19278/997733635.py:32: UserWarning: All files already created for mrsos Lmon CanESM5 historical r11i1p1f1, skipped.\n",
      "  warnings.warn('All files already created for '+data_params['variable_id']+' '+\n"
     ]
    },
    {
     "name": "stdout",
     "output_type": "stream",
     "text": [
      "/Users/miriam/Documents/02_academia/02_PhD/research/projects/dirt-in-sesa/CMIP6_data/CNRM-CM6-1/mrsos_Lmon_CNRM-CM6-1_historical_r2i1p1f2_19790101-20141231_SouthAmerica.nc processed!\n"
     ]
    },
    {
     "name": "stderr",
     "output_type": "stream",
     "text": [
      "/var/folders/72/gq_qh34d21xgnsw2_5sf25rh0000gn/T/ipykernel_19278/997733635.py:32: UserWarning: All files already created for mrsos Lmon CanESM5 historical r10i1p2f1, skipped.\n",
      "  warnings.warn('All files already created for '+data_params['variable_id']+' '+\n"
     ]
    },
    {
     "name": "stdout",
     "output_type": "stream",
     "text": [
      "/Users/miriam/Documents/02_academia/02_PhD/research/projects/dirt-in-sesa/CMIP6_data/CanESM5-CanOE/mrsos_Lmon_CanESM5-CanOE_historical_r1i1p2f1_19790101-20141231_SouthAmerica.nc processed!\n"
     ]
    },
    {
     "name": "stderr",
     "output_type": "stream",
     "text": [
      "/var/folders/72/gq_qh34d21xgnsw2_5sf25rh0000gn/T/ipykernel_19278/997733635.py:32: UserWarning: All files already created for mrsos Lmon CNRM-CM6-1 historical r6i1p1f2, skipped.\n",
      "  warnings.warn('All files already created for '+data_params['variable_id']+' '+\n",
      "/var/folders/72/gq_qh34d21xgnsw2_5sf25rh0000gn/T/ipykernel_19278/997733635.py:32: UserWarning: All files already created for mrsos Lmon CNRM-ESM2-1 historical r5i1p1f2, skipped.\n",
      "  warnings.warn('All files already created for '+data_params['variable_id']+' '+\n",
      "/var/folders/72/gq_qh34d21xgnsw2_5sf25rh0000gn/T/ipykernel_19278/997733635.py:32: UserWarning: All files already created for mrsos Lmon CNRM-ESM2-1 historical r4i1p1f2, skipped.\n",
      "  warnings.warn('All files already created for '+data_params['variable_id']+' '+\n",
      "/var/folders/72/gq_qh34d21xgnsw2_5sf25rh0000gn/T/ipykernel_19278/997733635.py:32: UserWarning: All files already created for mrsos Lmon CanESM5 historical r13i1p1f1, skipped.\n",
      "  warnings.warn('All files already created for '+data_params['variable_id']+' '+\n",
      "/var/folders/72/gq_qh34d21xgnsw2_5sf25rh0000gn/T/ipykernel_19278/997733635.py:32: UserWarning: All files already created for mrsos Lmon CanESM5 historical r13i1p2f1, skipped.\n",
      "  warnings.warn('All files already created for '+data_params['variable_id']+' '+\n",
      "/var/folders/72/gq_qh34d21xgnsw2_5sf25rh0000gn/T/ipykernel_19278/997733635.py:32: UserWarning: All files already created for mrsos Lmon GFDL-CM4 historical r1i1p1f1, skipped.\n",
      "  warnings.warn('All files already created for '+data_params['variable_id']+' '+\n",
      "/var/folders/72/gq_qh34d21xgnsw2_5sf25rh0000gn/T/ipykernel_19278/997733635.py:32: UserWarning: All files already created for mrsos Lmon CanESM5 historical r23i1p1f1, skipped.\n",
      "  warnings.warn('All files already created for '+data_params['variable_id']+' '+\n",
      "/var/folders/72/gq_qh34d21xgnsw2_5sf25rh0000gn/T/ipykernel_19278/997733635.py:32: UserWarning: All files already created for mrsos Lmon CanESM5 historical r24i1p1f1, skipped.\n",
      "  warnings.warn('All files already created for '+data_params['variable_id']+' '+\n",
      "/var/folders/72/gq_qh34d21xgnsw2_5sf25rh0000gn/T/ipykernel_19278/997733635.py:32: UserWarning: All files already created for mrsos Lmon CanESM5 historical r23i1p2f1, skipped.\n",
      "  warnings.warn('All files already created for '+data_params['variable_id']+' '+\n",
      "/var/folders/72/gq_qh34d21xgnsw2_5sf25rh0000gn/T/ipykernel_19278/997733635.py:32: UserWarning: All files already created for mrsos Lmon CanESM5 historical r25i1p1f1, skipped.\n",
      "  warnings.warn('All files already created for '+data_params['variable_id']+' '+\n",
      "/var/folders/72/gq_qh34d21xgnsw2_5sf25rh0000gn/T/ipykernel_19278/997733635.py:32: UserWarning: All files already created for mrsos Lmon CanESM5 historical r2i1p2f1, skipped.\n",
      "  warnings.warn('All files already created for '+data_params['variable_id']+' '+\n",
      "/var/folders/72/gq_qh34d21xgnsw2_5sf25rh0000gn/T/ipykernel_19278/997733635.py:32: UserWarning: All files already created for mrsos Lmon CanESM5 historical r3i1p2f1, skipped.\n",
      "  warnings.warn('All files already created for '+data_params['variable_id']+' '+\n",
      "/var/folders/72/gq_qh34d21xgnsw2_5sf25rh0000gn/T/ipykernel_19278/997733635.py:32: UserWarning: All files already created for mrsos Lmon CanESM5 historical r14i1p2f1, skipped.\n",
      "  warnings.warn('All files already created for '+data_params['variable_id']+' '+\n",
      "/var/folders/72/gq_qh34d21xgnsw2_5sf25rh0000gn/T/ipykernel_19278/997733635.py:32: UserWarning: All files already created for mrsos Lmon CanESM5-CanOE historical r3i1p2f1, skipped.\n",
      "  warnings.warn('All files already created for '+data_params['variable_id']+' '+\n",
      "/var/folders/72/gq_qh34d21xgnsw2_5sf25rh0000gn/T/ipykernel_19278/997733635.py:32: UserWarning: All files already created for mrsos Lmon CanESM5 historical r24i1p2f1, skipped.\n",
      "  warnings.warn('All files already created for '+data_params['variable_id']+' '+\n",
      "/var/folders/72/gq_qh34d21xgnsw2_5sf25rh0000gn/T/ipykernel_19278/997733635.py:32: UserWarning: All files already created for mrsos Lmon CanESM5-CanOE historical r1i1p2f1, skipped.\n",
      "  warnings.warn('All files already created for '+data_params['variable_id']+' '+\n",
      "/var/folders/72/gq_qh34d21xgnsw2_5sf25rh0000gn/T/ipykernel_19278/997733635.py:32: UserWarning: All files already created for mrsos Lmon CanESM5-CanOE historical r2i1p2f1, skipped.\n",
      "  warnings.warn('All files already created for '+data_params['variable_id']+' '+\n",
      "/var/folders/72/gq_qh34d21xgnsw2_5sf25rh0000gn/T/ipykernel_19278/997733635.py:32: UserWarning: All files already created for mrsos Lmon CanESM5 historical r22i1p2f1, skipped.\n",
      "  warnings.warn('All files already created for '+data_params['variable_id']+' '+\n",
      "/var/folders/72/gq_qh34d21xgnsw2_5sf25rh0000gn/T/ipykernel_19278/997733635.py:32: UserWarning: All files already created for mrsos Lmon CanESM5 historical r17i1p1f1, skipped.\n",
      "  warnings.warn('All files already created for '+data_params['variable_id']+' '+\n",
      "/var/folders/72/gq_qh34d21xgnsw2_5sf25rh0000gn/T/ipykernel_19278/997733635.py:32: UserWarning: All files already created for mrsos Lmon CanESM5 historical r15i1p1f1, skipped.\n",
      "  warnings.warn('All files already created for '+data_params['variable_id']+' '+\n",
      "/var/folders/72/gq_qh34d21xgnsw2_5sf25rh0000gn/T/ipykernel_19278/997733635.py:32: UserWarning: All files already created for mrsos Lmon CanESM5 historical r14i1p1f1, skipped.\n",
      "  warnings.warn('All files already created for '+data_params['variable_id']+' '+\n",
      "/var/folders/72/gq_qh34d21xgnsw2_5sf25rh0000gn/T/ipykernel_19278/997733635.py:32: UserWarning: All files already created for mrsos Lmon CanESM5 historical r16i1p2f1, skipped.\n",
      "  warnings.warn('All files already created for '+data_params['variable_id']+' '+\n",
      "/var/folders/72/gq_qh34d21xgnsw2_5sf25rh0000gn/T/ipykernel_19278/997733635.py:32: UserWarning: All files already created for mrsos Lmon CanESM5 historical r18i1p2f1, skipped.\n",
      "  warnings.warn('All files already created for '+data_params['variable_id']+' '+\n",
      "/var/folders/72/gq_qh34d21xgnsw2_5sf25rh0000gn/T/ipykernel_19278/997733635.py:32: UserWarning: All files already created for mrsos Lmon CanESM5 historical r17i1p2f1, skipped.\n",
      "  warnings.warn('All files already created for '+data_params['variable_id']+' '+\n",
      "/var/folders/72/gq_qh34d21xgnsw2_5sf25rh0000gn/T/ipykernel_19278/997733635.py:32: UserWarning: All files already created for mrsos Lmon CanESM5 historical r16i1p1f1, skipped.\n",
      "  warnings.warn('All files already created for '+data_params['variable_id']+' '+\n",
      "/var/folders/72/gq_qh34d21xgnsw2_5sf25rh0000gn/T/ipykernel_19278/997733635.py:32: UserWarning: All files already created for mrsos Lmon CanESM5 historical r18i1p1f1, skipped.\n",
      "  warnings.warn('All files already created for '+data_params['variable_id']+' '+\n",
      "/var/folders/72/gq_qh34d21xgnsw2_5sf25rh0000gn/T/ipykernel_19278/997733635.py:32: UserWarning: All files already created for mrsos Lmon BCC-CSM2-MR historical r1i1p1f1, skipped.\n",
      "  warnings.warn('All files already created for '+data_params['variable_id']+' '+\n",
      "/var/folders/72/gq_qh34d21xgnsw2_5sf25rh0000gn/T/ipykernel_19278/997733635.py:32: UserWarning: All files already created for mrsos Lmon CNRM-ESM2-1 historical r1i1p1f2, skipped.\n",
      "  warnings.warn('All files already created for '+data_params['variable_id']+' '+\n",
      "/var/folders/72/gq_qh34d21xgnsw2_5sf25rh0000gn/T/ipykernel_19278/997733635.py:32: UserWarning: All files already created for mrsos Lmon CNRM-CM6-1 historical r2i1p1f2, skipped.\n",
      "  warnings.warn('All files already created for '+data_params['variable_id']+' '+\n",
      "/var/folders/72/gq_qh34d21xgnsw2_5sf25rh0000gn/T/ipykernel_19278/997733635.py:32: UserWarning: All files already created for mrsos Lmon IPSL-CM6A-LR historical r14i1p1f1, skipped.\n",
      "  warnings.warn('All files already created for '+data_params['variable_id']+' '+\n",
      "/var/folders/72/gq_qh34d21xgnsw2_5sf25rh0000gn/T/ipykernel_19278/997733635.py:32: UserWarning: All files already created for mrsos Lmon IPSL-CM6A-LR historical r2i1p1f1, skipped.\n",
      "  warnings.warn('All files already created for '+data_params['variable_id']+' '+\n"
     ]
    },
    {
     "name": "stdout",
     "output_type": "stream",
     "text": [
      "/Users/miriam/Documents/02_academia/02_PhD/research/projects/dirt-in-sesa/CMIP6_data/FIO-ESM-2-0/mrsos_Lmon_FIO-ESM-2-0_historical_r3i1p1f1_19790101-20141231_SouthAmerica.nc processed!\n",
      "/Users/miriam/Documents/02_academia/02_PhD/research/projects/dirt-in-sesa/CMIP6_data/FIO-ESM-2-0/mrsos_Lmon_FIO-ESM-2-0_historical_r1i1p1f1_19790101-20141231_SouthAmerica.nc processed!\n"
     ]
    },
    {
     "name": "stderr",
     "output_type": "stream",
     "text": [
      "/var/folders/72/gq_qh34d21xgnsw2_5sf25rh0000gn/T/ipykernel_19278/997733635.py:32: UserWarning: All files already created for mrsos Lmon IPSL-CM6A-LR historical r3i1p1f1, skipped.\n",
      "  warnings.warn('All files already created for '+data_params['variable_id']+' '+\n",
      "/var/folders/72/gq_qh34d21xgnsw2_5sf25rh0000gn/T/ipykernel_19278/997733635.py:32: UserWarning: All files already created for mrsos Lmon FIO-ESM-2-0 historical r2i1p1f1, skipped.\n",
      "  warnings.warn('All files already created for '+data_params['variable_id']+' '+\n",
      "/var/folders/72/gq_qh34d21xgnsw2_5sf25rh0000gn/T/ipykernel_19278/997733635.py:32: UserWarning: All files already created for mrsos Lmon IPSL-CM6A-LR historical r6i1p1f1, skipped.\n",
      "  warnings.warn('All files already created for '+data_params['variable_id']+' '+\n",
      "/var/folders/72/gq_qh34d21xgnsw2_5sf25rh0000gn/T/ipykernel_19278/997733635.py:32: UserWarning: All files already created for mrsos Lmon IPSL-CM6A-LR historical r4i1p1f1, skipped.\n",
      "  warnings.warn('All files already created for '+data_params['variable_id']+' '+\n",
      "/var/folders/72/gq_qh34d21xgnsw2_5sf25rh0000gn/T/ipykernel_19278/997733635.py:32: UserWarning: All files already created for mrsos Lmon MPI-ESM1-2-LR historical r3i1p1f1, skipped.\n",
      "  warnings.warn('All files already created for '+data_params['variable_id']+' '+\n",
      "/var/folders/72/gq_qh34d21xgnsw2_5sf25rh0000gn/T/ipykernel_19278/997733635.py:32: UserWarning: All files already created for mrsos Lmon MPI-ESM1-2-LR historical r10i1p1f1, skipped.\n",
      "  warnings.warn('All files already created for '+data_params['variable_id']+' '+\n",
      "/var/folders/72/gq_qh34d21xgnsw2_5sf25rh0000gn/T/ipykernel_19278/997733635.py:32: UserWarning: All files already created for mrsos Lmon MPI-ESM1-2-LR historical r1i1p1f1, skipped.\n",
      "  warnings.warn('All files already created for '+data_params['variable_id']+' '+\n",
      "/var/folders/72/gq_qh34d21xgnsw2_5sf25rh0000gn/T/ipykernel_19278/997733635.py:32: UserWarning: All files already created for mrsos Lmon FIO-ESM-2-0 historical r1i1p1f1, skipped.\n",
      "  warnings.warn('All files already created for '+data_params['variable_id']+' '+\n",
      "/var/folders/72/gq_qh34d21xgnsw2_5sf25rh0000gn/T/ipykernel_19278/997733635.py:32: UserWarning: All files already created for mrsos Lmon FIO-ESM-2-0 historical r3i1p1f1, skipped.\n",
      "  warnings.warn('All files already created for '+data_params['variable_id']+' '+\n",
      "/var/folders/72/gq_qh34d21xgnsw2_5sf25rh0000gn/T/ipykernel_19278/997733635.py:32: UserWarning: All files already created for mrsos Lmon CESM2-WACCM historical r3i1p1f1, skipped.\n",
      "  warnings.warn('All files already created for '+data_params['variable_id']+' '+\n",
      "/var/folders/72/gq_qh34d21xgnsw2_5sf25rh0000gn/T/ipykernel_19278/997733635.py:32: UserWarning: All files already created for mrsos Lmon CESM2-WACCM historical r2i1p1f1, skipped.\n",
      "  warnings.warn('All files already created for '+data_params['variable_id']+' '+\n",
      "/var/folders/72/gq_qh34d21xgnsw2_5sf25rh0000gn/T/ipykernel_19278/997733635.py:111: UserWarning: Directory /Users/miriam/Documents/02_academia/02_PhD/research/projects/dirt-in-sesa/CMIP6_data/CAMS-CSM1-0/ created!\n",
      "  warnings.warn('Directory '+cfg.lpaths['raw_data_dir']+url.split('/')[6]+'/'+' created!')\n"
     ]
    },
    {
     "name": "stdout",
     "output_type": "stream",
     "text": [
      "/Users/miriam/Documents/02_academia/02_PhD/research/projects/dirt-in-sesa/CMIP6_data/CAMS-CSM1-0/mrsos_Lmon_CAMS-CSM1-0_historical_r2i1p1f1_19790101-20141231_SouthAmerica.nc processed!\n"
     ]
    },
    {
     "name": "stderr",
     "output_type": "stream",
     "text": [
      "/var/folders/72/gq_qh34d21xgnsw2_5sf25rh0000gn/T/ipykernel_19278/997733635.py:32: UserWarning: All files already created for mrsos Lmon CAMS-CSM1-0 historical r2i1p1f1, skipped.\n",
      "  warnings.warn('All files already created for '+data_params['variable_id']+' '+\n"
     ]
    },
    {
     "name": "stdout",
     "output_type": "stream",
     "text": [
      "360-day\n",
      "/Users/miriam/Documents/02_academia/02_PhD/research/projects/dirt-in-sesa/CMIP6_data/UKESM1-0-LL/mrsos_Lmon_UKESM1-0-LL_historical_r8i1p1f2_19790101-20141231_SouthAmerica.nc processed!\n",
      "360-day\n",
      "/Users/miriam/Documents/02_academia/02_PhD/research/projects/dirt-in-sesa/CMIP6_data/UKESM1-0-LL/mrsos_Lmon_UKESM1-0-LL_historical_r3i1p1f2_19790101-20141231_SouthAmerica.nc processed!\n",
      "360-day\n",
      "/Users/miriam/Documents/02_academia/02_PhD/research/projects/dirt-in-sesa/CMIP6_data/UKESM1-0-LL/mrsos_Lmon_UKESM1-0-LL_historical_r2i1p1f2_19790101-20141231_SouthAmerica.nc processed!\n"
     ]
    },
    {
     "name": "stderr",
     "output_type": "stream",
     "text": [
      "/var/folders/72/gq_qh34d21xgnsw2_5sf25rh0000gn/T/ipykernel_19278/997733635.py:32: UserWarning: All files already created for mrsos Lmon UKESM1-0-LL historical r2i1p1f2, skipped.\n",
      "  warnings.warn('All files already created for '+data_params['variable_id']+' '+\n"
     ]
    },
    {
     "name": "stdout",
     "output_type": "stream",
     "text": [
      "360-day\n",
      "/Users/miriam/Documents/02_academia/02_PhD/research/projects/dirt-in-sesa/CMIP6_data/UKESM1-0-LL/mrsos_Lmon_UKESM1-0-LL_historical_r4i1p1f2_19790101-20141231_SouthAmerica.nc processed!\n"
     ]
    },
    {
     "name": "stderr",
     "output_type": "stream",
     "text": [
      "/var/folders/72/gq_qh34d21xgnsw2_5sf25rh0000gn/T/ipykernel_19278/997733635.py:32: UserWarning: All files already created for mrsos Lmon UKESM1-0-LL historical r3i1p1f2, skipped.\n",
      "  warnings.warn('All files already created for '+data_params['variable_id']+' '+\n",
      "/var/folders/72/gq_qh34d21xgnsw2_5sf25rh0000gn/T/ipykernel_19278/997733635.py:32: UserWarning: All files already created for mrsos Lmon UKESM1-0-LL historical r1i1p1f2, skipped.\n",
      "  warnings.warn('All files already created for '+data_params['variable_id']+' '+\n",
      "/var/folders/72/gq_qh34d21xgnsw2_5sf25rh0000gn/T/ipykernel_19278/997733635.py:32: UserWarning: All files already created for mrsos Lmon UKESM1-0-LL historical r4i1p1f2, skipped.\n",
      "  warnings.warn('All files already created for '+data_params['variable_id']+' '+\n",
      "/var/folders/72/gq_qh34d21xgnsw2_5sf25rh0000gn/T/ipykernel_19278/997733635.py:32: UserWarning: All files already created for mrsos Lmon UKESM1-0-LL historical r8i1p1f2, skipped.\n",
      "  warnings.warn('All files already created for '+data_params['variable_id']+' '+\n"
     ]
    },
    {
     "data": {
      "application/json": {
       "ascii": false,
       "bar_format": null,
       "colour": null,
       "elapsed": 0.0036330223083496094,
       "initial": 0,
       "n": 0,
       "ncols": null,
       "nrows": 27,
       "postfix": null,
       "prefix": "",
       "rate": null,
       "total": 160,
       "unit": "it",
       "unit_divisor": 1000,
       "unit_scale": false
      },
      "application/vnd.jupyter.widget-view+json": {
       "model_id": "c6d891c07d5143b398e32f98d72b72d4",
       "version_major": 2,
       "version_minor": 0
      },
      "text/plain": [
       "  0%|          | 0/160 [00:00<?, ?it/s]"
      ]
     },
     "metadata": {},
     "output_type": "display_data"
    },
    {
     "name": "stdout",
     "output_type": "stream",
     "text": [
      "/Users/miriam/Documents/02_academia/02_PhD/research/projects/dirt-in-sesa/CMIP6_data/CanESM5/mrsos_Lmon_CanESM5_ssp585_r6i1p2f1_20150101-21001231_SouthAmerica.nc processed!\n",
      "/Users/miriam/Documents/02_academia/02_PhD/research/projects/dirt-in-sesa/CMIP6_data/CanESM5/mrsos_Lmon_CanESM5_ssp585_r25i1p1f1_20150101-21001231_SouthAmerica.nc processed!\n",
      "/Users/miriam/Documents/02_academia/02_PhD/research/projects/dirt-in-sesa/CMIP6_data/CanESM5/mrsos_Lmon_CanESM5_ssp585_r24i1p2f1_20150101-21001231_SouthAmerica.nc processed!\n",
      "/Users/miriam/Documents/02_academia/02_PhD/research/projects/dirt-in-sesa/CMIP6_data/CanESM5/mrsos_Lmon_CanESM5_ssp585_r24i1p1f1_20150101-21001231_SouthAmerica.nc processed!\n",
      "/Users/miriam/Documents/02_academia/02_PhD/research/projects/dirt-in-sesa/CMIP6_data/CanESM5/mrsos_Lmon_CanESM5_ssp585_r25i1p2f1_20150101-21001231_SouthAmerica.nc processed!\n",
      "/Users/miriam/Documents/02_academia/02_PhD/research/projects/dirt-in-sesa/CMIP6_data/CanESM5/mrsos_Lmon_CanESM5_ssp585_r2i1p2f1_20150101-21001231_SouthAmerica.nc processed!\n",
      "/Users/miriam/Documents/02_academia/02_PhD/research/projects/dirt-in-sesa/CMIP6_data/CanESM5/mrsos_Lmon_CanESM5_ssp585_r23i1p1f1_20150101-21001231_SouthAmerica.nc processed!\n",
      "/Users/miriam/Documents/02_academia/02_PhD/research/projects/dirt-in-sesa/CMIP6_data/CanESM5/mrsos_Lmon_CanESM5_ssp585_r6i1p1f1_20150101-21001231_SouthAmerica.nc processed!\n",
      "/Users/miriam/Documents/02_academia/02_PhD/research/projects/dirt-in-sesa/CMIP6_data/IPSL-CM6A-LR/mrsos_Lmon_IPSL-CM6A-LR_ssp585_r1i1p1f1_20150101-21001231_SouthAmerica.nc processed!\n",
      "/Users/miriam/Documents/02_academia/02_PhD/research/projects/dirt-in-sesa/CMIP6_data/CNRM-CM6-1/mrsos_Lmon_CNRM-CM6-1_ssp585_r4i1p1f2_20150101-21001231_SouthAmerica.nc processed!\n",
      "360-day\n",
      "/Users/miriam/Documents/02_academia/02_PhD/research/projects/dirt-in-sesa/CMIP6_data/UKESM1-0-LL/mrsos_Lmon_UKESM1-0-LL_ssp585_r1i1p1f2_20150101-21001231_SouthAmerica.nc processed!\n",
      "/Users/miriam/Documents/02_academia/02_PhD/research/projects/dirt-in-sesa/CMIP6_data/BCC-CSM2-MR/mrsos_Lmon_BCC-CSM2-MR_ssp585_r1i1p1f1_20150101-21001231_SouthAmerica.nc processed!\n",
      "/Users/miriam/Documents/02_academia/02_PhD/research/projects/dirt-in-sesa/CMIP6_data/CESM2-WACCM/mrsos_Lmon_CESM2-WACCM_ssp585_r1i1p1f1_20150101-21001231_SouthAmerica.nc processed!\n",
      "/Users/miriam/Documents/02_academia/02_PhD/research/projects/dirt-in-sesa/CMIP6_data/FIO-ESM-2-0/mrsos_Lmon_FIO-ESM-2-0_ssp585_r2i1p1f1_20150101-21001231_SouthAmerica.nc processed!\n",
      "/Users/miriam/Documents/02_academia/02_PhD/research/projects/dirt-in-sesa/CMIP6_data/CanESM5/mrsos_Lmon_CanESM5_ssp585_r7i1p2f1_20150101-21001231_SouthAmerica.nc processed!\n",
      "/Users/miriam/Documents/02_academia/02_PhD/research/projects/dirt-in-sesa/CMIP6_data/CanESM5/mrsos_Lmon_CanESM5_ssp585_r3i1p2f1_20150101-21001231_SouthAmerica.nc processed!\n"
     ]
    },
    {
     "name": "stderr",
     "output_type": "stream",
     "text": [
      "/var/folders/72/gq_qh34d21xgnsw2_5sf25rh0000gn/T/ipykernel_19278/997733635.py:32: UserWarning: All files already created for mrsos Lmon CanESM5 ssp585 r6i1p2f1, skipped.\n",
      "  warnings.warn('All files already created for '+data_params['variable_id']+' '+\n"
     ]
    },
    {
     "name": "stdout",
     "output_type": "stream",
     "text": [
      "/Users/miriam/Documents/02_academia/02_PhD/research/projects/dirt-in-sesa/CMIP6_data/CanESM5/mrsos_Lmon_CanESM5_ssp585_r23i1p2f1_20150101-21001231_SouthAmerica.nc processed!\n",
      "/Users/miriam/Documents/02_academia/02_PhD/research/projects/dirt-in-sesa/CMIP6_data/CanESM5/mrsos_Lmon_CanESM5_ssp585_r5i1p2f1_20150101-21001231_SouthAmerica.nc processed!\n",
      "/Users/miriam/Documents/02_academia/02_PhD/research/projects/dirt-in-sesa/CMIP6_data/CanESM5/mrsos_Lmon_CanESM5_ssp585_r4i1p2f1_20150101-21001231_SouthAmerica.nc processed!\n"
     ]
    },
    {
     "name": "stderr",
     "output_type": "stream",
     "text": [
      "/var/folders/72/gq_qh34d21xgnsw2_5sf25rh0000gn/T/ipykernel_19278/997733635.py:32: UserWarning: All files already created for mrsos Lmon CanESM5 ssp585 r6i1p1f1, skipped.\n",
      "  warnings.warn('All files already created for '+data_params['variable_id']+' '+\n"
     ]
    },
    {
     "name": "stdout",
     "output_type": "stream",
     "text": [
      "/Users/miriam/Documents/02_academia/02_PhD/research/projects/dirt-in-sesa/CMIP6_data/CanESM5/mrsos_Lmon_CanESM5_ssp585_r11i1p1f1_20150101-21001231_SouthAmerica.nc processed!\n",
      "/Users/miriam/Documents/02_academia/02_PhD/research/projects/dirt-in-sesa/CMIP6_data/CanESM5-CanOE/mrsos_Lmon_CanESM5-CanOE_ssp585_r2i1p2f1_20150101-21001231_SouthAmerica.nc processed!\n",
      "/Users/miriam/Documents/02_academia/02_PhD/research/projects/dirt-in-sesa/CMIP6_data/CanESM5/mrsos_Lmon_CanESM5_ssp585_r12i1p2f1_20150101-21001231_SouthAmerica.nc processed!\n",
      "/Users/miriam/Documents/02_academia/02_PhD/research/projects/dirt-in-sesa/CMIP6_data/CanESM5/mrsos_Lmon_CanESM5_ssp585_r11i1p2f1_20150101-21001231_SouthAmerica.nc processed!\n",
      "/Users/miriam/Documents/02_academia/02_PhD/research/projects/dirt-in-sesa/CMIP6_data/CanESM5/mrsos_Lmon_CanESM5_ssp585_r13i1p1f1_20150101-21001231_SouthAmerica.nc processed!\n",
      "/Users/miriam/Documents/02_academia/02_PhD/research/projects/dirt-in-sesa/CMIP6_data/CanESM5/mrsos_Lmon_CanESM5_ssp585_r9i1p2f1_20150101-21001231_SouthAmerica.nc processed!\n",
      "/Users/miriam/Documents/02_academia/02_PhD/research/projects/dirt-in-sesa/CMIP6_data/CanESM5-CanOE/mrsos_Lmon_CanESM5-CanOE_ssp585_r3i1p2f1_20150101-21001231_SouthAmerica.nc processed!\n",
      "/Users/miriam/Documents/02_academia/02_PhD/research/projects/dirt-in-sesa/CMIP6_data/CanESM5/mrsos_Lmon_CanESM5_ssp585_r8i1p2f1_20150101-21001231_SouthAmerica.nc processed!\n"
     ]
    },
    {
     "name": "stderr",
     "output_type": "stream",
     "text": [
      "/var/folders/72/gq_qh34d21xgnsw2_5sf25rh0000gn/T/ipykernel_19278/997733635.py:32: UserWarning: All files already created for mrsos Lmon CanESM5 ssp585 r4i1p2f1, skipped.\n",
      "  warnings.warn('All files already created for '+data_params['variable_id']+' '+\n"
     ]
    },
    {
     "name": "stdout",
     "output_type": "stream",
     "text": [
      "/Users/miriam/Documents/02_academia/02_PhD/research/projects/dirt-in-sesa/CMIP6_data/CanESM5/mrsos_Lmon_CanESM5_ssp585_r17i1p1f1_20150101-21001231_SouthAmerica.nc processed!\n"
     ]
    },
    {
     "name": "stderr",
     "output_type": "stream",
     "text": [
      "/var/folders/72/gq_qh34d21xgnsw2_5sf25rh0000gn/T/ipykernel_19278/997733635.py:32: UserWarning: All files already created for mrsos Lmon CanESM5 ssp585 r12i1p2f1, skipped.\n",
      "  warnings.warn('All files already created for '+data_params['variable_id']+' '+\n",
      "/var/folders/72/gq_qh34d21xgnsw2_5sf25rh0000gn/T/ipykernel_19278/997733635.py:32: UserWarning: All files already created for mrsos Lmon CanESM5 ssp585 r11i1p2f1, skipped.\n",
      "  warnings.warn('All files already created for '+data_params['variable_id']+' '+\n"
     ]
    },
    {
     "name": "stdout",
     "output_type": "stream",
     "text": [
      "/Users/miriam/Documents/02_academia/02_PhD/research/projects/dirt-in-sesa/CMIP6_data/CanESM5/mrsos_Lmon_CanESM5_ssp585_r10i1p2f1_20150101-21001231_SouthAmerica.nc processed!\n"
     ]
    },
    {
     "name": "stderr",
     "output_type": "stream",
     "text": [
      "/var/folders/72/gq_qh34d21xgnsw2_5sf25rh0000gn/T/ipykernel_19278/997733635.py:32: UserWarning: All files already created for mrsos Lmon CanESM5 ssp585 r7i1p2f1, skipped.\n",
      "  warnings.warn('All files already created for '+data_params['variable_id']+' '+\n"
     ]
    },
    {
     "name": "stdout",
     "output_type": "stream",
     "text": [
      "/Users/miriam/Documents/02_academia/02_PhD/research/projects/dirt-in-sesa/CMIP6_data/CanESM5/mrsos_Lmon_CanESM5_ssp585_r12i1p1f1_20150101-21001231_SouthAmerica.nc processed!\n"
     ]
    },
    {
     "name": "stderr",
     "output_type": "stream",
     "text": [
      "/var/folders/72/gq_qh34d21xgnsw2_5sf25rh0000gn/T/ipykernel_19278/997733635.py:32: UserWarning: All files already created for mrsos Lmon CanESM5 ssp585 r25i1p2f1, skipped.\n",
      "  warnings.warn('All files already created for '+data_params['variable_id']+' '+\n",
      "/var/folders/72/gq_qh34d21xgnsw2_5sf25rh0000gn/T/ipykernel_19278/997733635.py:32: UserWarning: All files already created for mrsos Lmon CanESM5 ssp585 r5i1p2f1, skipped.\n",
      "  warnings.warn('All files already created for '+data_params['variable_id']+' '+\n",
      "/var/folders/72/gq_qh34d21xgnsw2_5sf25rh0000gn/T/ipykernel_19278/997733635.py:32: UserWarning: All files already created for mrsos Lmon CanESM5 ssp585 r12i1p1f1, skipped.\n",
      "  warnings.warn('All files already created for '+data_params['variable_id']+' '+\n"
     ]
    },
    {
     "name": "stdout",
     "output_type": "stream",
     "text": [
      "/Users/miriam/Documents/02_academia/02_PhD/research/projects/dirt-in-sesa/CMIP6_data/CNRM-CM6-1/mrsos_Lmon_CNRM-CM6-1_ssp585_r1i1p1f2_20150101-21001231_SouthAmerica.nc processed!\n",
      "/Users/miriam/Documents/02_academia/02_PhD/research/projects/dirt-in-sesa/CMIP6_data/IPSL-CM6A-LR/mrsos_Lmon_IPSL-CM6A-LR_ssp585_r14i1p1f1_20150101-21001231_SouthAmerica.nc processed!\n",
      "/Users/miriam/Documents/02_academia/02_PhD/research/projects/dirt-in-sesa/CMIP6_data/CanESM5/mrsos_Lmon_CanESM5_ssp585_r19i1p2f1_20150101-21001231_SouthAmerica.nc processed!\n",
      "/Users/miriam/Documents/02_academia/02_PhD/research/projects/dirt-in-sesa/CMIP6_data/CanESM5/mrsos_Lmon_CanESM5_ssp585_r21i1p1f1_20150101-21001231_SouthAmerica.nc processed!\n",
      "/Users/miriam/Documents/02_academia/02_PhD/research/projects/dirt-in-sesa/CMIP6_data/CanESM5/mrsos_Lmon_CanESM5_ssp585_r21i1p2f1_20150101-21001231_SouthAmerica.nc processed!\n",
      "/Users/miriam/Documents/02_academia/02_PhD/research/projects/dirt-in-sesa/CMIP6_data/CanESM5/mrsos_Lmon_CanESM5_ssp585_r17i1p2f1_20150101-21001231_SouthAmerica.nc processed!\n",
      "/Users/miriam/Documents/02_academia/02_PhD/research/projects/dirt-in-sesa/CMIP6_data/CanESM5/mrsos_Lmon_CanESM5_ssp585_r18i1p1f1_20150101-21001231_SouthAmerica.nc processed!\n"
     ]
    },
    {
     "name": "stderr",
     "output_type": "stream",
     "text": [
      "/var/folders/72/gq_qh34d21xgnsw2_5sf25rh0000gn/T/ipykernel_19278/997733635.py:32: UserWarning: All files already created for mrsos Lmon CanESM5 ssp585 r9i1p2f1, skipped.\n",
      "  warnings.warn('All files already created for '+data_params['variable_id']+' '+\n"
     ]
    },
    {
     "name": "stdout",
     "output_type": "stream",
     "text": [
      "/Users/miriam/Documents/02_academia/02_PhD/research/projects/dirt-in-sesa/CMIP6_data/CanESM5/mrsos_Lmon_CanESM5_ssp585_r16i1p1f1_20150101-21001231_SouthAmerica.nc processed!\n",
      "/Users/miriam/Documents/02_academia/02_PhD/research/projects/dirt-in-sesa/CMIP6_data/CanESM5/mrsos_Lmon_CanESM5_ssp585_r15i1p2f1_20150101-21001231_SouthAmerica.nc processed!\n",
      "/Users/miriam/Documents/02_academia/02_PhD/research/projects/dirt-in-sesa/CMIP6_data/CanESM5/mrsos_Lmon_CanESM5_ssp585_r20i1p1f1_20150101-21001231_SouthAmerica.nc processed!\n"
     ]
    },
    {
     "name": "stderr",
     "output_type": "stream",
     "text": [
      "/var/folders/72/gq_qh34d21xgnsw2_5sf25rh0000gn/T/ipykernel_19278/997733635.py:32: UserWarning: All files already created for mrsos Lmon CanESM5 ssp585 r20i1p1f1, skipped.\n",
      "  warnings.warn('All files already created for '+data_params['variable_id']+' '+\n"
     ]
    },
    {
     "name": "stdout",
     "output_type": "stream",
     "text": [
      "/Users/miriam/Documents/02_academia/02_PhD/research/projects/dirt-in-sesa/CMIP6_data/CanESM5/mrsos_Lmon_CanESM5_ssp585_r15i1p1f1_20150101-21001231_SouthAmerica.nc processed!\n",
      "/Users/miriam/Documents/02_academia/02_PhD/research/projects/dirt-in-sesa/CMIP6_data/CanESM5/mrsos_Lmon_CanESM5_ssp585_r14i1p2f1_20150101-21001231_SouthAmerica.nc processed!\n",
      "/Users/miriam/Documents/02_academia/02_PhD/research/projects/dirt-in-sesa/CMIP6_data/CanESM5/mrsos_Lmon_CanESM5_ssp585_r1i1p2f1_20150101-21001231_SouthAmerica.nc processed!\n",
      "/Users/miriam/Documents/02_academia/02_PhD/research/projects/dirt-in-sesa/CMIP6_data/CanESM5/mrsos_Lmon_CanESM5_ssp585_r16i1p2f1_20150101-21001231_SouthAmerica.nc processed!\n",
      "/Users/miriam/Documents/02_academia/02_PhD/research/projects/dirt-in-sesa/CMIP6_data/CanESM5/mrsos_Lmon_CanESM5_ssp585_r18i1p2f1_20150101-21001231_SouthAmerica.nc processed!\n"
     ]
    },
    {
     "name": "stderr",
     "output_type": "stream",
     "text": [
      "/var/folders/72/gq_qh34d21xgnsw2_5sf25rh0000gn/T/ipykernel_19278/997733635.py:32: UserWarning: All files already created for mrsos Lmon CanESM5 ssp585 r15i1p2f1, skipped.\n",
      "  warnings.warn('All files already created for '+data_params['variable_id']+' '+\n"
     ]
    },
    {
     "name": "stdout",
     "output_type": "stream",
     "text": [
      "/Users/miriam/Documents/02_academia/02_PhD/research/projects/dirt-in-sesa/CMIP6_data/CanESM5/mrsos_Lmon_CanESM5_ssp585_r22i1p1f1_20150101-21001231_SouthAmerica.nc processed!\n",
      "/Users/miriam/Documents/02_academia/02_PhD/research/projects/dirt-in-sesa/CMIP6_data/CanESM5/mrsos_Lmon_CanESM5_ssp585_r14i1p1f1_20150101-21001231_SouthAmerica.nc processed!\n",
      "/Users/miriam/Documents/02_academia/02_PhD/research/projects/dirt-in-sesa/CMIP6_data/CanESM5/mrsos_Lmon_CanESM5_ssp585_r22i1p2f1_20150101-21001231_SouthAmerica.nc processed!\n",
      "/Users/miriam/Documents/02_academia/02_PhD/research/projects/dirt-in-sesa/CMIP6_data/CanESM5/mrsos_Lmon_CanESM5_ssp585_r20i1p2f1_20150101-21001231_SouthAmerica.nc processed!\n"
     ]
    },
    {
     "name": "stderr",
     "output_type": "stream",
     "text": [
      "/var/folders/72/gq_qh34d21xgnsw2_5sf25rh0000gn/T/ipykernel_19278/997733635.py:32: UserWarning: All files already created for mrsos Lmon CanESM5 ssp585 r21i1p1f1, skipped.\n",
      "  warnings.warn('All files already created for '+data_params['variable_id']+' '+\n"
     ]
    },
    {
     "name": "stdout",
     "output_type": "stream",
     "text": [
      "/Users/miriam/Documents/02_academia/02_PhD/research/projects/dirt-in-sesa/CMIP6_data/CanESM5/mrsos_Lmon_CanESM5_ssp585_r19i1p1f1_20150101-21001231_SouthAmerica.nc processed!\n"
     ]
    },
    {
     "name": "stderr",
     "output_type": "stream",
     "text": [
      "/var/folders/72/gq_qh34d21xgnsw2_5sf25rh0000gn/T/ipykernel_19278/997733635.py:32: UserWarning: All files already created for mrsos Lmon CanESM5 ssp585 r19i1p2f1, skipped.\n",
      "  warnings.warn('All files already created for '+data_params['variable_id']+' '+\n",
      "/var/folders/72/gq_qh34d21xgnsw2_5sf25rh0000gn/T/ipykernel_19278/997733635.py:32: UserWarning: All files already created for mrsos Lmon CanESM5 ssp585 r20i1p2f1, skipped.\n",
      "  warnings.warn('All files already created for '+data_params['variable_id']+' '+\n"
     ]
    },
    {
     "name": "stdout",
     "output_type": "stream",
     "text": [
      "/Users/miriam/Documents/02_academia/02_PhD/research/projects/dirt-in-sesa/CMIP6_data/CanESM5/mrsos_Lmon_CanESM5_ssp585_r13i1p2f1_20150101-21001231_SouthAmerica.nc processed!\n"
     ]
    },
    {
     "name": "stderr",
     "output_type": "stream",
     "text": [
      "/var/folders/72/gq_qh34d21xgnsw2_5sf25rh0000gn/T/ipykernel_19278/997733635.py:32: UserWarning: All files already created for mrsos Lmon CanESM5 ssp585 r19i1p1f1, skipped.\n",
      "  warnings.warn('All files already created for '+data_params['variable_id']+' '+\n",
      "/var/folders/72/gq_qh34d21xgnsw2_5sf25rh0000gn/T/ipykernel_19278/997733635.py:32: UserWarning: All files already created for mrsos Lmon CanESM5 ssp585 r22i1p1f1, skipped.\n",
      "  warnings.warn('All files already created for '+data_params['variable_id']+' '+\n",
      "/var/folders/72/gq_qh34d21xgnsw2_5sf25rh0000gn/T/ipykernel_19278/997733635.py:32: UserWarning: All files already created for mrsos Lmon CanESM5 ssp585 r21i1p2f1, skipped.\n",
      "  warnings.warn('All files already created for '+data_params['variable_id']+' '+\n",
      "/var/folders/72/gq_qh34d21xgnsw2_5sf25rh0000gn/T/ipykernel_19278/997733635.py:32: UserWarning: All files already created for mrsos Lmon CanESM5 ssp585 r8i1p2f1, skipped.\n",
      "  warnings.warn('All files already created for '+data_params['variable_id']+' '+\n",
      "/var/folders/72/gq_qh34d21xgnsw2_5sf25rh0000gn/T/ipykernel_19278/997733635.py:32: UserWarning: All files already created for mrsos Lmon CanESM5 ssp585 r1i1p2f1, skipped.\n",
      "  warnings.warn('All files already created for '+data_params['variable_id']+' '+\n"
     ]
    },
    {
     "name": "stdout",
     "output_type": "stream",
     "text": [
      "/Users/miriam/Documents/02_academia/02_PhD/research/projects/dirt-in-sesa/CMIP6_data/GFDL-CM4/mrsos_Lmon_GFDL-CM4_ssp585_r1i1p1f1_20150101-21001231_SouthAmerica.nc processed!\n",
      "/Users/miriam/Documents/02_academia/02_PhD/research/projects/dirt-in-sesa/CMIP6_data/MPI-ESM1-2-LR/mrsos_Lmon_MPI-ESM1-2-LR_ssp585_r1i1p1f1_20150101-21001231_SouthAmerica.nc processed!\n",
      "/Users/miriam/Documents/02_academia/02_PhD/research/projects/dirt-in-sesa/CMIP6_data/MPI-ESM1-2-LR/mrsos_Lmon_MPI-ESM1-2-LR_ssp585_r10i1p1f1_20150101-21001231_SouthAmerica.nc processed!\n",
      "/Users/miriam/Documents/02_academia/02_PhD/research/projects/dirt-in-sesa/CMIP6_data/MPI-ESM1-2-HR/mrsos_Lmon_MPI-ESM1-2-HR_ssp585_r2i1p1f1_20150101-21001231_SouthAmerica.nc processed!\n",
      "/Users/miriam/Documents/02_academia/02_PhD/research/projects/dirt-in-sesa/CMIP6_data/CNRM-ESM2-1/mrsos_Lmon_CNRM-ESM2-1_ssp585_r1i1p1f2_20150101-21001231_SouthAmerica.nc processed!\n",
      "/Users/miriam/Documents/02_academia/02_PhD/research/projects/dirt-in-sesa/CMIP6_data/MPI-ESM1-2-HR/mrsos_Lmon_MPI-ESM1-2-HR_ssp585_r1i1p1f1_20150101-21001231_SouthAmerica.nc processed!\n"
     ]
    },
    {
     "name": "stderr",
     "output_type": "stream",
     "text": [
      "/var/folders/72/gq_qh34d21xgnsw2_5sf25rh0000gn/T/ipykernel_19278/997733635.py:32: UserWarning: All files already created for mrsos Lmon MPI-ESM1-2-HR ssp585 r2i1p1f1, skipped.\n",
      "  warnings.warn('All files already created for '+data_params['variable_id']+' '+\n",
      "/var/folders/72/gq_qh34d21xgnsw2_5sf25rh0000gn/T/ipykernel_19278/997733635.py:32: UserWarning: All files already created for mrsos Lmon MPI-ESM1-2-HR ssp585 r1i1p1f1, skipped.\n",
      "  warnings.warn('All files already created for '+data_params['variable_id']+' '+\n"
     ]
    },
    {
     "name": "stdout",
     "output_type": "stream",
     "text": [
      "/Users/miriam/Documents/02_academia/02_PhD/research/projects/dirt-in-sesa/CMIP6_data/MPI-ESM1-2-LR/mrsos_Lmon_MPI-ESM1-2-LR_ssp585_r3i1p1f1_20150101-21001231_SouthAmerica.nc processed!\n"
     ]
    },
    {
     "name": "stderr",
     "output_type": "stream",
     "text": [
      "/var/folders/72/gq_qh34d21xgnsw2_5sf25rh0000gn/T/ipykernel_19278/997733635.py:32: UserWarning: All files already created for mrsos Lmon CNRM-CM6-1 ssp585 r1i1p1f2, skipped.\n",
      "  warnings.warn('All files already created for '+data_params['variable_id']+' '+\n"
     ]
    },
    {
     "name": "stdout",
     "output_type": "stream",
     "text": [
      "/Users/miriam/Documents/02_academia/02_PhD/research/projects/dirt-in-sesa/CMIP6_data/CNRM-CM6-1/mrsos_Lmon_CNRM-CM6-1_ssp585_r3i1p1f2_20150101-21001231_SouthAmerica.nc processed!\n",
      "/Users/miriam/Documents/02_academia/02_PhD/research/projects/dirt-in-sesa/CMIP6_data/CNRM-ESM2-1/mrsos_Lmon_CNRM-ESM2-1_ssp585_r2i1p1f2_20150101-21001231_SouthAmerica.nc processed!\n",
      "/Users/miriam/Documents/02_academia/02_PhD/research/projects/dirt-in-sesa/CMIP6_data/CNRM-CM6-1/mrsos_Lmon_CNRM-CM6-1_ssp585_r6i1p1f2_20150101-21001231_SouthAmerica.nc processed!\n",
      "/Users/miriam/Documents/02_academia/02_PhD/research/projects/dirt-in-sesa/CMIP6_data/CESM2-WACCM/mrsos_Lmon_CESM2-WACCM_ssp585_r3i1p1f1_20150101-21001231_SouthAmerica.nc processed!\n",
      "/Users/miriam/Documents/02_academia/02_PhD/research/projects/dirt-in-sesa/CMIP6_data/CNRM-ESM2-1/mrsos_Lmon_CNRM-ESM2-1_ssp585_r4i1p1f2_20150101-21001231_SouthAmerica.nc processed!\n",
      "/Users/miriam/Documents/02_academia/02_PhD/research/projects/dirt-in-sesa/CMIP6_data/CNRM-ESM2-1/mrsos_Lmon_CNRM-ESM2-1_ssp585_r3i1p1f2_20150101-21001231_SouthAmerica.nc processed!\n",
      "/Users/miriam/Documents/02_academia/02_PhD/research/projects/dirt-in-sesa/CMIP6_data/CNRM-ESM2-1/mrsos_Lmon_CNRM-ESM2-1_ssp585_r5i1p1f2_20150101-21001231_SouthAmerica.nc processed!\n"
     ]
    },
    {
     "name": "stderr",
     "output_type": "stream",
     "text": [
      "/var/folders/72/gq_qh34d21xgnsw2_5sf25rh0000gn/T/ipykernel_19278/997733635.py:32: UserWarning: All files already created for mrsos Lmon CNRM-CM6-1 ssp585 r4i1p1f2, skipped.\n",
      "  warnings.warn('All files already created for '+data_params['variable_id']+' '+\n"
     ]
    },
    {
     "name": "stdout",
     "output_type": "stream",
     "text": [
      "/Users/miriam/Documents/02_academia/02_PhD/research/projects/dirt-in-sesa/CMIP6_data/CNRM-CM6-1/mrsos_Lmon_CNRM-CM6-1_ssp585_r5i1p1f2_20150101-21001231_SouthAmerica.nc processed!\n"
     ]
    },
    {
     "name": "stderr",
     "output_type": "stream",
     "text": [
      "/var/folders/72/gq_qh34d21xgnsw2_5sf25rh0000gn/T/ipykernel_19278/997733635.py:32: UserWarning: All files already created for mrsos Lmon CESM2-WACCM ssp585 r1i1p1f1, skipped.\n",
      "  warnings.warn('All files already created for '+data_params['variable_id']+' '+\n"
     ]
    },
    {
     "name": "stdout",
     "output_type": "stream",
     "text": [
      "/Users/miriam/Documents/02_academia/02_PhD/research/projects/dirt-in-sesa/CMIP6_data/CESM2-WACCM/mrsos_Lmon_CESM2-WACCM_ssp585_r2i1p1f1_20150101-21001231_SouthAmerica.nc processed!\n",
      "/Users/miriam/Documents/02_academia/02_PhD/research/projects/dirt-in-sesa/CMIP6_data/IPSL-CM6A-LR/mrsos_Lmon_IPSL-CM6A-LR_ssp585_r3i1p1f1_20150101-21001231_SouthAmerica.nc processed!\n",
      "/Users/miriam/Documents/02_academia/02_PhD/research/projects/dirt-in-sesa/CMIP6_data/IPSL-CM6A-LR/mrsos_Lmon_IPSL-CM6A-LR_ssp585_r2i1p1f1_20150101-21001231_SouthAmerica.nc processed!\n",
      "/Users/miriam/Documents/02_academia/02_PhD/research/projects/dirt-in-sesa/CMIP6_data/IPSL-CM6A-LR/mrsos_Lmon_IPSL-CM6A-LR_ssp585_r6i1p1f1_20150101-21001231_SouthAmerica.nc processed!\n"
     ]
    },
    {
     "name": "stderr",
     "output_type": "stream",
     "text": [
      "/var/folders/72/gq_qh34d21xgnsw2_5sf25rh0000gn/T/ipykernel_19278/997733635.py:32: UserWarning: All files already created for mrsos Lmon IPSL-CM6A-LR ssp585 r1i1p1f1, skipped.\n",
      "  warnings.warn('All files already created for '+data_params['variable_id']+' '+\n"
     ]
    },
    {
     "name": "stdout",
     "output_type": "stream",
     "text": [
      "/Users/miriam/Documents/02_academia/02_PhD/research/projects/dirt-in-sesa/CMIP6_data/IPSL-CM6A-LR/mrsos_Lmon_IPSL-CM6A-LR_ssp585_r4i1p1f1_20150101-21001231_SouthAmerica.nc processed!\n"
     ]
    },
    {
     "name": "stderr",
     "output_type": "stream",
     "text": [
      "/var/folders/72/gq_qh34d21xgnsw2_5sf25rh0000gn/T/ipykernel_19278/997733635.py:32: UserWarning: All files already created for mrsos Lmon CNRM-CM6-1 ssp585 r3i1p1f2, skipped.\n",
      "  warnings.warn('All files already created for '+data_params['variable_id']+' '+\n",
      "/var/folders/72/gq_qh34d21xgnsw2_5sf25rh0000gn/T/ipykernel_19278/997733635.py:32: UserWarning: All files already created for mrsos Lmon CNRM-ESM2-1 ssp585 r2i1p1f2, skipped.\n",
      "  warnings.warn('All files already created for '+data_params['variable_id']+' '+\n",
      "/var/folders/72/gq_qh34d21xgnsw2_5sf25rh0000gn/T/ipykernel_19278/997733635.py:32: UserWarning: All files already created for mrsos Lmon CNRM-ESM2-1 ssp585 r3i1p1f2, skipped.\n",
      "  warnings.warn('All files already created for '+data_params['variable_id']+' '+\n",
      "/var/folders/72/gq_qh34d21xgnsw2_5sf25rh0000gn/T/ipykernel_19278/997733635.py:32: UserWarning: All files already created for mrsos Lmon CNRM-CM6-1 ssp585 r5i1p1f2, skipped.\n",
      "  warnings.warn('All files already created for '+data_params['variable_id']+' '+\n",
      "/var/folders/72/gq_qh34d21xgnsw2_5sf25rh0000gn/T/ipykernel_19278/997733635.py:32: UserWarning: All files already created for mrsos Lmon CanESM5 ssp585 r11i1p1f1, skipped.\n",
      "  warnings.warn('All files already created for '+data_params['variable_id']+' '+\n"
     ]
    },
    {
     "name": "stdout",
     "output_type": "stream",
     "text": [
      "/Users/miriam/Documents/02_academia/02_PhD/research/projects/dirt-in-sesa/CMIP6_data/CNRM-CM6-1/mrsos_Lmon_CNRM-CM6-1_ssp585_r2i1p1f2_20150101-21001231_SouthAmerica.nc processed!\n"
     ]
    },
    {
     "name": "stderr",
     "output_type": "stream",
     "text": [
      "/var/folders/72/gq_qh34d21xgnsw2_5sf25rh0000gn/T/ipykernel_19278/997733635.py:32: UserWarning: All files already created for mrsos Lmon CanESM5 ssp585 r10i1p2f1, skipped.\n",
      "  warnings.warn('All files already created for '+data_params['variable_id']+' '+\n"
     ]
    },
    {
     "name": "stdout",
     "output_type": "stream",
     "text": [
      "/Users/miriam/Documents/02_academia/02_PhD/research/projects/dirt-in-sesa/CMIP6_data/CanESM5-CanOE/mrsos_Lmon_CanESM5-CanOE_ssp585_r1i1p2f1_20150101-21001231_SouthAmerica.nc processed!\n"
     ]
    },
    {
     "name": "stderr",
     "output_type": "stream",
     "text": [
      "/var/folders/72/gq_qh34d21xgnsw2_5sf25rh0000gn/T/ipykernel_19278/997733635.py:32: UserWarning: All files already created for mrsos Lmon CNRM-CM6-1 ssp585 r6i1p1f2, skipped.\n",
      "  warnings.warn('All files already created for '+data_params['variable_id']+' '+\n",
      "/var/folders/72/gq_qh34d21xgnsw2_5sf25rh0000gn/T/ipykernel_19278/997733635.py:32: UserWarning: All files already created for mrsos Lmon CNRM-ESM2-1 ssp585 r5i1p1f2, skipped.\n",
      "  warnings.warn('All files already created for '+data_params['variable_id']+' '+\n",
      "/var/folders/72/gq_qh34d21xgnsw2_5sf25rh0000gn/T/ipykernel_19278/997733635.py:32: UserWarning: All files already created for mrsos Lmon CNRM-ESM2-1 ssp585 r4i1p1f2, skipped.\n",
      "  warnings.warn('All files already created for '+data_params['variable_id']+' '+\n",
      "/var/folders/72/gq_qh34d21xgnsw2_5sf25rh0000gn/T/ipykernel_19278/997733635.py:32: UserWarning: All files already created for mrsos Lmon CanESM5 ssp585 r13i1p1f1, skipped.\n",
      "  warnings.warn('All files already created for '+data_params['variable_id']+' '+\n",
      "/var/folders/72/gq_qh34d21xgnsw2_5sf25rh0000gn/T/ipykernel_19278/997733635.py:32: UserWarning: All files already created for mrsos Lmon CanESM5 ssp585 r13i1p2f1, skipped.\n",
      "  warnings.warn('All files already created for '+data_params['variable_id']+' '+\n",
      "/var/folders/72/gq_qh34d21xgnsw2_5sf25rh0000gn/T/ipykernel_19278/997733635.py:32: UserWarning: All files already created for mrsos Lmon GFDL-CM4 ssp585 r1i1p1f1, skipped.\n",
      "  warnings.warn('All files already created for '+data_params['variable_id']+' '+\n",
      "/var/folders/72/gq_qh34d21xgnsw2_5sf25rh0000gn/T/ipykernel_19278/997733635.py:32: UserWarning: All files already created for mrsos Lmon CanESM5 ssp585 r23i1p1f1, skipped.\n",
      "  warnings.warn('All files already created for '+data_params['variable_id']+' '+\n",
      "/var/folders/72/gq_qh34d21xgnsw2_5sf25rh0000gn/T/ipykernel_19278/997733635.py:32: UserWarning: All files already created for mrsos Lmon CanESM5 ssp585 r24i1p1f1, skipped.\n",
      "  warnings.warn('All files already created for '+data_params['variable_id']+' '+\n",
      "/var/folders/72/gq_qh34d21xgnsw2_5sf25rh0000gn/T/ipykernel_19278/997733635.py:32: UserWarning: All files already created for mrsos Lmon CanESM5 ssp585 r23i1p2f1, skipped.\n",
      "  warnings.warn('All files already created for '+data_params['variable_id']+' '+\n",
      "/var/folders/72/gq_qh34d21xgnsw2_5sf25rh0000gn/T/ipykernel_19278/997733635.py:32: UserWarning: All files already created for mrsos Lmon CanESM5 ssp585 r25i1p1f1, skipped.\n",
      "  warnings.warn('All files already created for '+data_params['variable_id']+' '+\n",
      "/var/folders/72/gq_qh34d21xgnsw2_5sf25rh0000gn/T/ipykernel_19278/997733635.py:32: UserWarning: All files already created for mrsos Lmon CanESM5 ssp585 r2i1p2f1, skipped.\n",
      "  warnings.warn('All files already created for '+data_params['variable_id']+' '+\n",
      "/var/folders/72/gq_qh34d21xgnsw2_5sf25rh0000gn/T/ipykernel_19278/997733635.py:32: UserWarning: All files already created for mrsos Lmon CanESM5 ssp585 r3i1p2f1, skipped.\n",
      "  warnings.warn('All files already created for '+data_params['variable_id']+' '+\n",
      "/var/folders/72/gq_qh34d21xgnsw2_5sf25rh0000gn/T/ipykernel_19278/997733635.py:32: UserWarning: All files already created for mrsos Lmon CanESM5 ssp585 r14i1p2f1, skipped.\n",
      "  warnings.warn('All files already created for '+data_params['variable_id']+' '+\n",
      "/var/folders/72/gq_qh34d21xgnsw2_5sf25rh0000gn/T/ipykernel_19278/997733635.py:32: UserWarning: All files already created for mrsos Lmon CanESM5-CanOE ssp585 r3i1p2f1, skipped.\n",
      "  warnings.warn('All files already created for '+data_params['variable_id']+' '+\n",
      "/var/folders/72/gq_qh34d21xgnsw2_5sf25rh0000gn/T/ipykernel_19278/997733635.py:32: UserWarning: All files already created for mrsos Lmon CanESM5 ssp585 r24i1p2f1, skipped.\n",
      "  warnings.warn('All files already created for '+data_params['variable_id']+' '+\n",
      "/var/folders/72/gq_qh34d21xgnsw2_5sf25rh0000gn/T/ipykernel_19278/997733635.py:32: UserWarning: All files already created for mrsos Lmon CanESM5-CanOE ssp585 r1i1p2f1, skipped.\n",
      "  warnings.warn('All files already created for '+data_params['variable_id']+' '+\n",
      "/var/folders/72/gq_qh34d21xgnsw2_5sf25rh0000gn/T/ipykernel_19278/997733635.py:32: UserWarning: All files already created for mrsos Lmon CanESM5-CanOE ssp585 r2i1p2f1, skipped.\n",
      "  warnings.warn('All files already created for '+data_params['variable_id']+' '+\n",
      "/var/folders/72/gq_qh34d21xgnsw2_5sf25rh0000gn/T/ipykernel_19278/997733635.py:32: UserWarning: All files already created for mrsos Lmon CanESM5 ssp585 r22i1p2f1, skipped.\n",
      "  warnings.warn('All files already created for '+data_params['variable_id']+' '+\n",
      "/var/folders/72/gq_qh34d21xgnsw2_5sf25rh0000gn/T/ipykernel_19278/997733635.py:32: UserWarning: All files already created for mrsos Lmon CanESM5 ssp585 r17i1p1f1, skipped.\n",
      "  warnings.warn('All files already created for '+data_params['variable_id']+' '+\n",
      "/var/folders/72/gq_qh34d21xgnsw2_5sf25rh0000gn/T/ipykernel_19278/997733635.py:32: UserWarning: All files already created for mrsos Lmon CanESM5 ssp585 r15i1p1f1, skipped.\n",
      "  warnings.warn('All files already created for '+data_params['variable_id']+' '+\n",
      "/var/folders/72/gq_qh34d21xgnsw2_5sf25rh0000gn/T/ipykernel_19278/997733635.py:32: UserWarning: All files already created for mrsos Lmon CanESM5 ssp585 r14i1p1f1, skipped.\n",
      "  warnings.warn('All files already created for '+data_params['variable_id']+' '+\n",
      "/var/folders/72/gq_qh34d21xgnsw2_5sf25rh0000gn/T/ipykernel_19278/997733635.py:32: UserWarning: All files already created for mrsos Lmon CanESM5 ssp585 r16i1p2f1, skipped.\n",
      "  warnings.warn('All files already created for '+data_params['variable_id']+' '+\n",
      "/var/folders/72/gq_qh34d21xgnsw2_5sf25rh0000gn/T/ipykernel_19278/997733635.py:32: UserWarning: All files already created for mrsos Lmon CanESM5 ssp585 r18i1p2f1, skipped.\n",
      "  warnings.warn('All files already created for '+data_params['variable_id']+' '+\n",
      "/var/folders/72/gq_qh34d21xgnsw2_5sf25rh0000gn/T/ipykernel_19278/997733635.py:32: UserWarning: All files already created for mrsos Lmon CanESM5 ssp585 r17i1p2f1, skipped.\n",
      "  warnings.warn('All files already created for '+data_params['variable_id']+' '+\n",
      "/var/folders/72/gq_qh34d21xgnsw2_5sf25rh0000gn/T/ipykernel_19278/997733635.py:32: UserWarning: All files already created for mrsos Lmon CanESM5 ssp585 r16i1p1f1, skipped.\n",
      "  warnings.warn('All files already created for '+data_params['variable_id']+' '+\n",
      "/var/folders/72/gq_qh34d21xgnsw2_5sf25rh0000gn/T/ipykernel_19278/997733635.py:32: UserWarning: All files already created for mrsos Lmon CanESM5 ssp585 r18i1p1f1, skipped.\n",
      "  warnings.warn('All files already created for '+data_params['variable_id']+' '+\n",
      "/var/folders/72/gq_qh34d21xgnsw2_5sf25rh0000gn/T/ipykernel_19278/997733635.py:32: UserWarning: All files already created for mrsos Lmon BCC-CSM2-MR ssp585 r1i1p1f1, skipped.\n",
      "  warnings.warn('All files already created for '+data_params['variable_id']+' '+\n",
      "/var/folders/72/gq_qh34d21xgnsw2_5sf25rh0000gn/T/ipykernel_19278/997733635.py:32: UserWarning: All files already created for mrsos Lmon CNRM-ESM2-1 ssp585 r1i1p1f2, skipped.\n",
      "  warnings.warn('All files already created for '+data_params['variable_id']+' '+\n",
      "/var/folders/72/gq_qh34d21xgnsw2_5sf25rh0000gn/T/ipykernel_19278/997733635.py:32: UserWarning: All files already created for mrsos Lmon CNRM-CM6-1 ssp585 r2i1p1f2, skipped.\n",
      "  warnings.warn('All files already created for '+data_params['variable_id']+' '+\n",
      "/var/folders/72/gq_qh34d21xgnsw2_5sf25rh0000gn/T/ipykernel_19278/997733635.py:32: UserWarning: All files already created for mrsos Lmon IPSL-CM6A-LR ssp585 r14i1p1f1, skipped.\n",
      "  warnings.warn('All files already created for '+data_params['variable_id']+' '+\n",
      "/var/folders/72/gq_qh34d21xgnsw2_5sf25rh0000gn/T/ipykernel_19278/997733635.py:32: UserWarning: All files already created for mrsos Lmon IPSL-CM6A-LR ssp585 r2i1p1f1, skipped.\n",
      "  warnings.warn('All files already created for '+data_params['variable_id']+' '+\n"
     ]
    },
    {
     "name": "stdout",
     "output_type": "stream",
     "text": [
      "/Users/miriam/Documents/02_academia/02_PhD/research/projects/dirt-in-sesa/CMIP6_data/FIO-ESM-2-0/mrsos_Lmon_FIO-ESM-2-0_ssp585_r3i1p1f1_20150101-21001231_SouthAmerica.nc processed!\n",
      "/Users/miriam/Documents/02_academia/02_PhD/research/projects/dirt-in-sesa/CMIP6_data/FIO-ESM-2-0/mrsos_Lmon_FIO-ESM-2-0_ssp585_r1i1p1f1_20150101-21001231_SouthAmerica.nc processed!\n"
     ]
    },
    {
     "name": "stderr",
     "output_type": "stream",
     "text": [
      "/var/folders/72/gq_qh34d21xgnsw2_5sf25rh0000gn/T/ipykernel_19278/997733635.py:32: UserWarning: All files already created for mrsos Lmon IPSL-CM6A-LR ssp585 r3i1p1f1, skipped.\n",
      "  warnings.warn('All files already created for '+data_params['variable_id']+' '+\n",
      "/var/folders/72/gq_qh34d21xgnsw2_5sf25rh0000gn/T/ipykernel_19278/997733635.py:32: UserWarning: All files already created for mrsos Lmon FIO-ESM-2-0 ssp585 r2i1p1f1, skipped.\n",
      "  warnings.warn('All files already created for '+data_params['variable_id']+' '+\n",
      "/var/folders/72/gq_qh34d21xgnsw2_5sf25rh0000gn/T/ipykernel_19278/997733635.py:32: UserWarning: All files already created for mrsos Lmon IPSL-CM6A-LR ssp585 r6i1p1f1, skipped.\n",
      "  warnings.warn('All files already created for '+data_params['variable_id']+' '+\n",
      "/var/folders/72/gq_qh34d21xgnsw2_5sf25rh0000gn/T/ipykernel_19278/997733635.py:32: UserWarning: All files already created for mrsos Lmon IPSL-CM6A-LR ssp585 r4i1p1f1, skipped.\n",
      "  warnings.warn('All files already created for '+data_params['variable_id']+' '+\n",
      "/var/folders/72/gq_qh34d21xgnsw2_5sf25rh0000gn/T/ipykernel_19278/997733635.py:32: UserWarning: All files already created for mrsos Lmon MPI-ESM1-2-LR ssp585 r3i1p1f1, skipped.\n",
      "  warnings.warn('All files already created for '+data_params['variable_id']+' '+\n",
      "/var/folders/72/gq_qh34d21xgnsw2_5sf25rh0000gn/T/ipykernel_19278/997733635.py:32: UserWarning: All files already created for mrsos Lmon MPI-ESM1-2-LR ssp585 r10i1p1f1, skipped.\n",
      "  warnings.warn('All files already created for '+data_params['variable_id']+' '+\n",
      "/var/folders/72/gq_qh34d21xgnsw2_5sf25rh0000gn/T/ipykernel_19278/997733635.py:32: UserWarning: All files already created for mrsos Lmon MPI-ESM1-2-LR ssp585 r1i1p1f1, skipped.\n",
      "  warnings.warn('All files already created for '+data_params['variable_id']+' '+\n",
      "/var/folders/72/gq_qh34d21xgnsw2_5sf25rh0000gn/T/ipykernel_19278/997733635.py:32: UserWarning: All files already created for mrsos Lmon FIO-ESM-2-0 ssp585 r1i1p1f1, skipped.\n",
      "  warnings.warn('All files already created for '+data_params['variable_id']+' '+\n",
      "/var/folders/72/gq_qh34d21xgnsw2_5sf25rh0000gn/T/ipykernel_19278/997733635.py:32: UserWarning: All files already created for mrsos Lmon FIO-ESM-2-0 ssp585 r3i1p1f1, skipped.\n",
      "  warnings.warn('All files already created for '+data_params['variable_id']+' '+\n",
      "/var/folders/72/gq_qh34d21xgnsw2_5sf25rh0000gn/T/ipykernel_19278/997733635.py:32: UserWarning: All files already created for mrsos Lmon CESM2-WACCM ssp585 r3i1p1f1, skipped.\n",
      "  warnings.warn('All files already created for '+data_params['variable_id']+' '+\n",
      "/var/folders/72/gq_qh34d21xgnsw2_5sf25rh0000gn/T/ipykernel_19278/997733635.py:32: UserWarning: All files already created for mrsos Lmon CESM2-WACCM ssp585 r2i1p1f1, skipped.\n",
      "  warnings.warn('All files already created for '+data_params['variable_id']+' '+\n"
     ]
    },
    {
     "name": "stdout",
     "output_type": "stream",
     "text": [
      "/Users/miriam/Documents/02_academia/02_PhD/research/projects/dirt-in-sesa/CMIP6_data/CAMS-CSM1-0/mrsos_Lmon_CAMS-CSM1-0_ssp585_r2i1p1f1_20150101-21001231_SouthAmerica.nc processed!\n"
     ]
    },
    {
     "name": "stderr",
     "output_type": "stream",
     "text": [
      "/var/folders/72/gq_qh34d21xgnsw2_5sf25rh0000gn/T/ipykernel_19278/997733635.py:32: UserWarning: All files already created for mrsos Lmon CAMS-CSM1-0 ssp585 r2i1p1f1, skipped.\n",
      "  warnings.warn('All files already created for '+data_params['variable_id']+' '+\n"
     ]
    },
    {
     "name": "stdout",
     "output_type": "stream",
     "text": [
      "360-day\n",
      "/Users/miriam/Documents/02_academia/02_PhD/research/projects/dirt-in-sesa/CMIP6_data/UKESM1-0-LL/mrsos_Lmon_UKESM1-0-LL_ssp585_r8i1p1f2_20150101-21001231_SouthAmerica.nc processed!\n",
      "360-day\n",
      "/Users/miriam/Documents/02_academia/02_PhD/research/projects/dirt-in-sesa/CMIP6_data/UKESM1-0-LL/mrsos_Lmon_UKESM1-0-LL_ssp585_r3i1p1f2_20150101-21001231_SouthAmerica.nc processed!\n",
      "360-day\n",
      "/Users/miriam/Documents/02_academia/02_PhD/research/projects/dirt-in-sesa/CMIP6_data/UKESM1-0-LL/mrsos_Lmon_UKESM1-0-LL_ssp585_r2i1p1f2_20150101-21001231_SouthAmerica.nc processed!\n"
     ]
    },
    {
     "name": "stderr",
     "output_type": "stream",
     "text": [
      "/var/folders/72/gq_qh34d21xgnsw2_5sf25rh0000gn/T/ipykernel_19278/997733635.py:32: UserWarning: All files already created for mrsos Lmon UKESM1-0-LL ssp585 r2i1p1f2, skipped.\n",
      "  warnings.warn('All files already created for '+data_params['variable_id']+' '+\n"
     ]
    },
    {
     "name": "stdout",
     "output_type": "stream",
     "text": [
      "360-day\n",
      "/Users/miriam/Documents/02_academia/02_PhD/research/projects/dirt-in-sesa/CMIP6_data/UKESM1-0-LL/mrsos_Lmon_UKESM1-0-LL_ssp585_r4i1p1f2_20150101-21001231_SouthAmerica.nc processed!\n"
     ]
    },
    {
     "name": "stderr",
     "output_type": "stream",
     "text": [
      "/var/folders/72/gq_qh34d21xgnsw2_5sf25rh0000gn/T/ipykernel_19278/997733635.py:32: UserWarning: All files already created for mrsos Lmon UKESM1-0-LL ssp585 r3i1p1f2, skipped.\n",
      "  warnings.warn('All files already created for '+data_params['variable_id']+' '+\n",
      "/var/folders/72/gq_qh34d21xgnsw2_5sf25rh0000gn/T/ipykernel_19278/997733635.py:32: UserWarning: All files already created for mrsos Lmon UKESM1-0-LL ssp585 r1i1p1f2, skipped.\n",
      "  warnings.warn('All files already created for '+data_params['variable_id']+' '+\n",
      "/var/folders/72/gq_qh34d21xgnsw2_5sf25rh0000gn/T/ipykernel_19278/997733635.py:32: UserWarning: All files already created for mrsos Lmon UKESM1-0-LL ssp585 r4i1p1f2, skipped.\n",
      "  warnings.warn('All files already created for '+data_params['variable_id']+' '+\n",
      "/var/folders/72/gq_qh34d21xgnsw2_5sf25rh0000gn/T/ipykernel_19278/997733635.py:32: UserWarning: All files already created for mrsos Lmon UKESM1-0-LL ssp585 r8i1p1f2, skipped.\n",
      "  warnings.warn('All files already created for '+data_params['variable_id']+' '+\n"
     ]
    }
   ],
   "source": [
    "\n",
    "#------ Process by variable and dataset in the subset ------\n",
    "#overwrite=True\n",
    "overwrite = False\n",
    "\n",
    "for data_params in data_params_all:\n",
    "    \n",
    "    for url in tqdm(cmip6_sub.zstore.values):\n",
    "        # Set output filenames\n",
    "        output_fns = [None]*len(subset_params_all)\n",
    "        path_exists = [None]*len(subset_params_all)\n",
    "\n",
    "        #data_params['member_id'] = url.split('/')[8]\n",
    "        for subset_params in subset_params_all:\n",
    "            output_fns[subset_params_all.index(subset_params)] = (cfg.lpaths['raw_data_dir']+url.split('/')[6]+'/'+\n",
    "                                                                 data_params['variable_id']+'_'+\n",
    "                                                                 data_params['table_id']+'_'+url.split('/')[6]+'_'+\n",
    "                                                                 data_params['experiment_id']+'_'+url.split('/')[8]+'_'+\n",
    "                                                                 '-'.join([re.sub('-','',t) for t in subset_params['time'][data_params['experiment_id']]])+\n",
    "                                                                 subset_params['fn_suffix']+'.nc')\n",
    "            \n",
    "            if 'other' in data_params.keys(): \n",
    "                if 'plev_subset' in data_params['other'].keys():\n",
    "                    output_fns[subset_params_all.index(subset_params)] = re.sub(data_params['variable_id'],\n",
    "                                                                            data_params['other']['plev_subset']['outputfn'],\n",
    "                                                                           output_fns[subset_params_all.index(subset_params)])\n",
    "            \n",
    "            \n",
    "            \n",
    "            path_exists[subset_params_all.index(subset_params)] = os.path.exists(output_fns[subset_params_all.index(subset_params)])\n",
    "        \n",
    "        if (not overwrite) & all(path_exists):\n",
    "            warnings.warn('All files already created for '+data_params['variable_id']+' '+\n",
    "                                                                 data_params['table_id']+' '+url.split('/')[6]+' '+\n",
    "                                                                 data_params['experiment_id']+' '+url.split('/')[8]+', skipped.')\n",
    "            continue\n",
    "        elif any(path_exists):\n",
    "            if overwrite:\n",
    "                for subset_params in subset_params_all:\n",
    "                    if path_exists[subset_params_all.index(subset_params)]:\n",
    "                        os.remove(output_fns[subset_params_all.index(subset_params)])\n",
    "                        warnings.warn('All files already exist for '+data_params['variable_id']+' '+\n",
    "                                                                             data_params['table_id']+' '+url.split('/')[6]+' '+\n",
    "                                                                             data_params['experiment_id']+' '+url.split('/')[8]+\n",
    "                                      ', because OVERWRITE=TRUE theses files have been deleted.')\n",
    "        \n",
    "        \n",
    "        # Open dataset\n",
    "        #ds = xr.open_zarr(fs.get_mapper(url),consolidated=True)\n",
    "        ds = xr.open_zarr(url, consolidated = True)\n",
    "        # ds.mrsos.mean(dim = 'time').plot()\n",
    "        # plt.show()\n",
    "\n",
    "        # Rename to lat / lon (let's hope there's no \n",
    "        # Latitude / latitude_1 / etc. in this dataset)\n",
    "        try:\n",
    "            ds = ds.rename({'longitude':'lon','latitude':'lat'})\n",
    "        except: \n",
    "            pass\n",
    "        \n",
    "        # same with 'nav_lat' and 'nav_lon' ???\n",
    "        try:\n",
    "            ds = ds.rename({'nav_lon':'lon','nav_lat':'lat'})\n",
    "        except: \n",
    "            pass\n",
    "\n",
    "        # If precip, kg/m^2/s, switch to mm/day\n",
    "        #if data_params['variable_id']=='pr':\n",
    "        #    ds[data_params['variable_id']] = ds[data_params['variable_id']]*60*60*24\n",
    "\n",
    "        # Fix coordinate doubling (this was an issue in NorCPM1, \n",
    "        # where thankfully the values of the variables were nans,\n",
    "        # though I still don't know how this happened - some lat\n",
    "        # values were doubled within floating point errors)\n",
    "        if 'lat' in ds[data_params['variable_id']].dims:\n",
    "            if len(np.unique(np.round(ds.lat.values,10))) != ds.dims['lat']:\n",
    "                ds = ds.isel(lat=(~np.isnan(ds.isel(lon=1,time=1)[data_params['variable_id']].values)).nonzero()[0],drop=True)\n",
    "                warnings.warn('Model '+ds.source_id+' has duplicate lat values; attempting to compensate by dropping lat values that are nan in the main variable in the first timestep')\n",
    "            if len(np.unique(np.round(ds.lon.values,10))) != ds.dims['lon']:\n",
    "                ds = ds.isel(lon=(~np.isnan(ds.isel(lat=1,time=1)[data_params['variable_id']].values)).nonzero()[0],drop=True)\n",
    "                warnings.warn('Model '+ds.source_id+' has duplicate lon values; attempting to compensate by dropping lon values that are nan in the main variable in the first timestep')\n",
    "\n",
    "        # Sort by time, if not sorted (this happened with\n",
    "        # a model; keeping a warning, cuz this seems weird)\n",
    "        if (ds.time.values != np.sort(ds.time)).any():\n",
    "            warnings.warn('Model '+ds.source_id+' has an unsorted time dimension.')\n",
    "            ds = ds.sortby('time')\n",
    "            \n",
    "        # If 360-day calendar, regrid to 365-day calendar\n",
    "        if regrid_360:\n",
    "            if ds.dims['dayofyear'] == 360:\n",
    "                # Have to put in the compute() because these \n",
    "                # are by default dask arrays, chunked along\n",
    "                # the time dimension, and can't interpolate\n",
    "                # across dask chunks... \n",
    "                ds = ds.compute().interp(dayofyear=(np.arange(1,366)/365)*360)\n",
    "                # And reset it to 1:365 indexing on day of year\n",
    "                ds['dayofyear'] = np.arange(1,366)\n",
    "                # Throw in a warning, too, why not\n",
    "                warnings.warn('Model '+ds.source_id+' has a 360-day calendar; daily values were interpolated to a 365-day calendar')\n",
    "\n",
    "        # Now, save by the subsets desired in subset_params_all above\n",
    "        for subset_params in subset_params_all:\n",
    "            # Make sure this file hasn't already been processed\n",
    "            if (not overwrite) & path_exists[subset_params_all.index(subset_params)]:\n",
    "                warnings.warn(output_fns[subset_params_all.index(subset_params)]+' already exists; skipped.')\n",
    "                continue\n",
    "            \n",
    "            # Make sure the target directory exists\n",
    "            if not os.path.exists(cfg.lpaths['raw_data_dir']+url.split('/')[6]+'/'):\n",
    "                os.mkdir(cfg.lpaths['raw_data_dir']+url.split('/')[6]+'/')\n",
    "                warnings.warn('Directory '+cfg.lpaths['raw_data_dir']+url.split('/')[6]+'/'+' created!')\n",
    "         \n",
    "            # Fix longitude (by setting it to either [-180:180] \n",
    "            # or [0:360] as determined by subset_params, and \n",
    "            # to roll them so the correct range is consecutive \n",
    "            # in lon (so if you're looking at the Equatorial \n",
    "            # Pacific, make it 0:360, with the first lon value\n",
    "            # at 45E). \n",
    "            if 'lat' in ds[data_params['variable_id']].dims:\n",
    "                ds_tmp = fix_lons(ds, subset_params)\n",
    "                # Now, cutoff the values below the 'lon_origin', \n",
    "                # because slice doesn't work if the indices aren't\n",
    "                # montonically increasing (and the above changes it\n",
    "                # to [lon_origin:360 0:lon_origin]\n",
    "                if np.abs(ds_tmp.lon[0]-subset_params['lon_origin'])>5:\n",
    "                    ds_tmp = ds_tmp.isel(lon=np.arange(0,(ds_tmp.lon // (subset_params['lon_origin']) == 0).values.nonzero()[0][0]))\n",
    "            else:\n",
    "                ds_tmp = ds\n",
    "                warnings.warn('fix_lons did not work because of the multi-dimensional index')\n",
    "\n",
    "            # ds_tmp.mrsos.mean(dim = 'time').plot()\n",
    "            # plt.show()\n",
    "            \n",
    "            # Subset by time as set in subset_params\n",
    "            if (ds.time.max().dt.day==30) | (type(ds.time.values[0]) == cftime._cftime.Datetime360Day): \n",
    "                print('360-day')\n",
    "                # (If it's a 360-day calendar, then subsetting to \"12-31\"\n",
    "                # will throw an error; this switches that call to \"12-30\")\n",
    "                # Also checking explicitly for 360day calendar; some monthly \n",
    "                # data is still shown as 360-day even when it's monthly, and will\n",
    "                # fail on date ranges with date 31 in a month\n",
    "                ds_tmp = (ds_tmp.sel(time=slice(subset_params['time'][data_params['experiment_id']][0],\n",
    "                                        re.sub('-31','-30',subset_params['time'][data_params['experiment_id']][1]))))\n",
    "            else:\n",
    "                ds_tmp = (ds_tmp.sel(time=slice(*subset_params['time'][data_params['experiment_id']])))\n",
    "            \n",
    "           # Subset by space as set in subset_params\n",
    "            if not 'lat' in ds[data_params['variable_id']].dims:\n",
    "                ds_tmp = ds_tmp.where((ds_tmp.lat >= subset_params['lat'][0]) & (ds_tmp.lat <= subset_params['lat'][1]) &\n",
    "                 (ds_tmp.lon >= subset_params['lon'][0]) & (ds_tmp.lon <= subset_params['lon'][1]),drop=True)\n",
    "            else:\n",
    "                ds_tmp = (ds_tmp.sel(lat=slice(*subset_params['lat']),\n",
    "                                     lon=slice(*subset_params['lon'])))\n",
    "            \n",
    "            \n",
    "            #ds_tmp.mrsos.mean(dim = 'time').plot()   \n",
    "            \n",
    "            # If subsetting by pressure level...\n",
    "            if 'other' in data_params.keys():\n",
    "                if 'plev_subset' in data_params['other'].keys:\n",
    "                    # Have to use np.allclose for floating point errors\n",
    "                    try:\n",
    "                        ds_tmp = ds_tmp.isel(plev=np.where([np.allclose(p,data_params['other']['plev_subset']['plev']) for p in ds_tmp.plev])[0][0])\n",
    "                        ds_tmp = ds_tmp.rename({data_params['variable_id']:data_params['other']['plev_subset']['outputfn']})\n",
    "                    except KeyError:\n",
    "                        print('The pressure levels: ')\n",
    "                        print(ds_tmp.plev.values)\n",
    "                        print(' do not contain '+str(data_params['other']['plev_subset']['plev'])+'; skipping.')\n",
    "                        del ds_tmp\n",
    "                        continue\n",
    "\n",
    "            # Save as NetCDF file\n",
    "            ds_tmp.to_netcdf(output_fns[subset_params_all.index(subset_params)])\n",
    "            plt.show()\n",
    "\n",
    "            # Status update\n",
    "            print(output_fns[subset_params_all.index(subset_params)]+' processed!')\n",
    "        \n",
    "        del ds, ds_tmp, subset_params\n",
    "                "
   ]
  },
  {
   "cell_type": "code",
   "execution_count": null,
   "id": "f75afc82-45a2-4d09-a004-86b8996779cd",
   "metadata": {},
   "outputs": [],
   "source": []
  },
  {
   "cell_type": "code",
   "execution_count": null,
   "id": "5bc30b13-5f25-4d0d-ba59-a557ef764941",
   "metadata": {},
   "outputs": [],
   "source": []
  },
  {
   "cell_type": "code",
   "execution_count": null,
   "id": "fff394d9-a4bc-4f2f-ace6-f5c5647a7eec",
   "metadata": {},
   "outputs": [],
   "source": []
  }
 ],
 "metadata": {
  "kernelspec": {
   "display_name": "Python 3 (ipykernel)",
   "language": "python",
   "name": "python3"
  },
  "language_info": {
   "codemirror_mode": {
    "name": "ipython",
    "version": 3
   },
   "file_extension": ".py",
   "mimetype": "text/x-python",
   "name": "python",
   "nbconvert_exporter": "python",
   "pygments_lexer": "ipython3",
   "version": "3.9.10"
  }
 },
 "nbformat": 4,
 "nbformat_minor": 5
}
