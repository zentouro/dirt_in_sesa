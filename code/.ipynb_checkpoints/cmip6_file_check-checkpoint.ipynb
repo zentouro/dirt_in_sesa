{
 "cells": [
  {
   "cell_type": "markdown",
   "id": "0ec67ba5-6c07-4572-b667-7431291d0aee",
   "metadata": {},
   "source": [
    "# Import and plot downloaded CMIP6 data \n",
    "\n",
    "- make sure everything looks correct and reasonable"
   ]
  },
  {
   "cell_type": "markdown",
   "id": "c1044104-0945-4fc9-ac64-ac77c5bbc6a7",
   "metadata": {},
   "source": [
    "## Necessary Packages\n"
   ]
  },
  {
   "cell_type": "code",
   "execution_count": 1,
   "id": "ce3b403c-2860-4741-8ba8-ca739b0ab015",
   "metadata": {
    "execution": {
     "iopub.execute_input": "2025-04-03T16:09:36.452645Z",
     "iopub.status.busy": "2025-04-03T16:09:36.449655Z",
     "iopub.status.idle": "2025-04-03T16:09:37.118084Z",
     "shell.execute_reply": "2025-04-03T16:09:37.117585Z",
     "shell.execute_reply.started": "2025-04-03T16:09:36.452543Z"
    }
   },
   "outputs": [],
   "source": [
    "import xarray as xr\n",
    "import pandas as pd\n",
    "import numpy as np\n",
    "import cftime\n",
    "\n",
    "from tqdm.notebook import tqdm\n",
    "import re\n",
    "import os\n"
   ]
  },
  {
   "cell_type": "code",
   "execution_count": 2,
   "id": "49b0ad90-5f4e-46e8-816f-2c52d1d562df",
   "metadata": {
    "execution": {
     "iopub.execute_input": "2025-04-03T16:09:59.577159Z",
     "iopub.status.busy": "2025-04-03T16:09:59.575533Z",
     "iopub.status.idle": "2025-04-03T16:09:59.590542Z",
     "shell.execute_reply": "2025-04-03T16:09:59.589301Z",
     "shell.execute_reply.started": "2025-04-03T16:09:59.577065Z"
    }
   },
   "outputs": [],
   "source": [
    "# Get config file ~ now to use as reference for where files are stored\n",
    "import download_config as cfg"
   ]
  },
  {
   "cell_type": "code",
   "execution_count": 3,
   "id": "8cd0841f-b5a5-4746-8ace-543bae7f4466",
   "metadata": {
    "execution": {
     "iopub.execute_input": "2025-04-03T16:10:06.276961Z",
     "iopub.status.busy": "2025-04-03T16:10:06.275366Z",
     "iopub.status.idle": "2025-04-03T16:10:06.298346Z",
     "shell.execute_reply": "2025-04-03T16:10:06.297295Z",
     "shell.execute_reply.started": "2025-04-03T16:10:06.276884Z"
    }
   },
   "outputs": [
    {
     "data": {
      "text/plain": [
       "'/Users/miriam/Documents/02_academia/02_PhD/research/projects/dirt_in_sesa/CMIP6_data/'"
      ]
     },
     "execution_count": 3,
     "metadata": {},
     "output_type": "execute_result"
    }
   ],
   "source": [
    "cfg.lpaths['raw_data_dir']"
   ]
  },
  {
   "cell_type": "markdown",
   "id": "fb2734c2-233f-4a64-b0ef-685be1c8f7f7",
   "metadata": {},
   "source": [
    "### Open files\n",
    "\n",
    "- gets model names from directories\n",
    "- gets member_id from file name\n",
    "- stitches together historical and SSP885 for each member_id\n",
    "  "
   ]
  },
  {
   "cell_type": "code",
   "execution_count": null,
   "id": "1a3e7ea4-0f78-4b79-88fb-eb5af6999006",
   "metadata": {},
   "outputs": [],
   "source": []
  },
  {
   "cell_type": "code",
   "execution_count": null,
   "id": "1a14aa72-f96b-4655-8bdd-a5461d195cdb",
   "metadata": {},
   "outputs": [],
   "source": []
  },
  {
   "cell_type": "markdown",
   "id": "098b4903-8f87-4c81-9c9c-791315455f2d",
   "metadata": {},
   "source": [
    "### GWL \n",
    "\n",
    "TO DO:\n",
    "- get GWL for each model "
   ]
  },
  {
   "cell_type": "code",
   "execution_count": null,
   "id": "07d39691-a33d-4477-b6f9-7846ca7a8faa",
   "metadata": {},
   "outputs": [],
   "source": []
  }
 ],
 "metadata": {
  "kernelspec": {
   "display_name": "Python 3 (ipykernel)",
   "language": "python",
   "name": "python3"
  },
  "language_info": {
   "codemirror_mode": {
    "name": "ipython",
    "version": 3
   },
   "file_extension": ".py",
   "mimetype": "text/x-python",
   "name": "python",
   "nbconvert_exporter": "python",
   "pygments_lexer": "ipython3",
   "version": "3.9.10"
  }
 },
 "nbformat": 4,
 "nbformat_minor": 5
}
